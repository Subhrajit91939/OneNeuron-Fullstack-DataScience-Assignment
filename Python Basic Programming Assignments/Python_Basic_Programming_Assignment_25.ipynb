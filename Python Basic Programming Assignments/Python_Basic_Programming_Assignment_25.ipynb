{
 "cells": [
  {
   "cell_type": "markdown",
   "id": "911f7284",
   "metadata": {},
   "source": [
    "<span style=\"font-family: SF Pro Display; font-size: 22px; font-weight: Bold\">Python Basic Programming Assignment-25</span>"
   ]
  },
  {
   "cell_type": "markdown",
   "id": "1ced1c96",
   "metadata": {
    "ExecuteTime": {
     "end_time": "2022-07-03T04:48:18.244121Z",
     "start_time": "2022-07-03T04:48:18.234148Z"
    }
   },
   "source": [
    "<span style=\"font-family: SF Pro Display; font-size: 18px; font-weight: Bold\">Question-1:<br></span>"
   ]
  },
  {
   "cell_type": "markdown",
   "id": "c692a27c",
   "metadata": {},
   "source": [
    "<span style=\"font-family: SF Pro Display; font-size: 18px;\">Create a function that takes three integer arguments (a, b, c) and returns the amount of integers which are of equal value.<br></span>\n",
    "\n",
    "<span style=\"font-family: SF Pro Display; font-size: 16px; font-weight: Bold\">Examples:<br></span>\n",
    "<span style=\"font-family: SF Pro Display; font-size: 16px;\">equal(3, 4, 3) ➞ 2<br>\n",
    "equal(1, 1, 1) ➞ 3<br>\n",
    "equal(3, 4, 1) ➞ 0<br>\n",
    "</span>\n",
    "\n",
    "<span style=\"font-family: SF Pro Display; font-size: 16px; font-weight: Bold\">Notes:<br></span>\n",
    "<span style=\"font-family: SF Pro Display; font-size: 16px;\">Your function must return 0, 2 or 3.</span>"
   ]
  },
  {
   "cell_type": "code",
   "execution_count": 3,
   "id": "0fcbe788",
   "metadata": {
    "ExecuteTime": {
     "end_time": "2022-07-03T04:39:17.559257Z",
     "start_time": "2022-07-03T04:39:17.539312Z"
    }
   },
   "outputs": [],
   "source": [
    "def equal(a,b,c):\n",
    "    # creating a list to store a sorted copy of the given numbers.\n",
    "    # sorting decreases the number of if-else statements required to solve the problem. \n",
    "    l = sorted([a,b,c])\n",
    "    if((l[0]!=l[1]) & (l[0]!=l[2])):\n",
    "        return 0;\n",
    "    elif ((l[0]==l[1]) | (l[0]==l[2])):\n",
    "        if (l[1]==l[2]):\n",
    "            return 3;\n",
    "        else:\n",
    "            return 2;"
   ]
  },
  {
   "cell_type": "code",
   "execution_count": 4,
   "id": "ed511ead",
   "metadata": {
    "ExecuteTime": {
     "end_time": "2022-07-03T04:39:19.362920Z",
     "start_time": "2022-07-03T04:39:19.347959Z"
    }
   },
   "outputs": [
    {
     "data": {
      "text/plain": [
       "2"
      ]
     },
     "execution_count": 4,
     "metadata": {},
     "output_type": "execute_result"
    }
   ],
   "source": [
    "# Test-case: 1\n",
    "equal(3,4,3)"
   ]
  },
  {
   "cell_type": "code",
   "execution_count": 5,
   "id": "3aa9d16b",
   "metadata": {
    "ExecuteTime": {
     "end_time": "2022-07-03T04:39:43.029347Z",
     "start_time": "2022-07-03T04:39:43.013857Z"
    }
   },
   "outputs": [
    {
     "data": {
      "text/plain": [
       "3"
      ]
     },
     "execution_count": 5,
     "metadata": {},
     "output_type": "execute_result"
    }
   ],
   "source": [
    "# Test-case: 2\n",
    "equal(1, 1, 1)"
   ]
  },
  {
   "cell_type": "code",
   "execution_count": 6,
   "id": "5865fcb6",
   "metadata": {
    "ExecuteTime": {
     "end_time": "2022-07-03T04:39:45.881250Z",
     "start_time": "2022-07-03T04:39:45.862290Z"
    }
   },
   "outputs": [
    {
     "data": {
      "text/plain": [
       "0"
      ]
     },
     "execution_count": 6,
     "metadata": {},
     "output_type": "execute_result"
    }
   ],
   "source": [
    "# Test-case: 3\n",
    "equal(3, 4, 1) "
   ]
  },
  {
   "cell_type": "markdown",
   "id": "d711931e",
   "metadata": {},
   "source": [
    "<span style=\"font-family: SF Pro Display; font-size: 18px; font-weight: Bold\">Question-2:<br></span>"
   ]
  },
  {
   "cell_type": "markdown",
   "id": "1006d443",
   "metadata": {},
   "source": [
    "<span style=\"font-family: SF Pro Display; font-size: 18px;\">Write a function that converts a dictionary into a list of keys-values tuples.<br></span>\n",
    "<span style=\"font-family: SF Pro Display; font-size: 16px; font-weight: Bold\">Examples:<br></span>\n",
    "\n",
    "    dict_to_list({\n",
    "    \"D\": 1,\n",
    "    \"B\": 2,\n",
    "    \"C\": 3 }) ➞ [(\"B\", 2), (\"C\", 3), (\"D\", 1)]\n",
    "\n",
    "    dict_to_list({\n",
    "    \"likes\": 2,\n",
    "    \"dislikes\": 3,\n",
    "    \"followers\": 10 }) ➞ [(\"dislikes\", 3), (\"followers\", 10), (\"likes\", 2)]\n",
    "\n",
    "<span style=\"font-family: SF Pro Display; font-size: 16px; font-weight: Bold\">Notes:<br></span>\n",
    "<span style=\"font-family: SF Pro Display; font-size: 16px;\">Return the elements in the list in alphabetical order.</span>"
   ]
  },
  {
   "cell_type": "code",
   "execution_count": 24,
   "id": "297af1f7",
   "metadata": {
    "ExecuteTime": {
     "end_time": "2022-07-03T04:58:16.605666Z",
     "start_time": "2022-07-03T04:58:16.595692Z"
    }
   },
   "outputs": [],
   "source": [
    "def dict_to_list(dict_list):\n",
    "    # converting the dictionary into a list\n",
    "    dict_l = [i for i in dict_list.items()]\n",
    "    # Sorting the list\n",
    "    dict_l.sort()\n",
    "    return dict_l"
   ]
  },
  {
   "cell_type": "code",
   "execution_count": 26,
   "id": "6c3e1e7b",
   "metadata": {
    "ExecuteTime": {
     "end_time": "2022-07-03T04:58:19.810401Z",
     "start_time": "2022-07-03T04:58:19.804416Z"
    }
   },
   "outputs": [
    {
     "name": "stdout",
     "output_type": "stream",
     "text": [
      "[('B', 2), ('C', 3), ('D', 1)]\n"
     ]
    }
   ],
   "source": [
    "# Test-case: 1\n",
    "test_dict_1 = { \"D\": 1, \"B\": 2, \"C\": 3 }\n",
    "print(dict_to_list(test_dict_1))"
   ]
  },
  {
   "cell_type": "code",
   "execution_count": 27,
   "id": "853f0489",
   "metadata": {
    "ExecuteTime": {
     "end_time": "2022-07-03T04:59:32.454354Z",
     "start_time": "2022-07-03T04:59:32.443347Z"
    }
   },
   "outputs": [
    {
     "name": "stdout",
     "output_type": "stream",
     "text": [
      "[('dislikes', 3), ('followers', 10), ('likes', 2)]\n"
     ]
    }
   ],
   "source": [
    "# Test-case: 2\n",
    "test_dict_2 = { \"likes\": 2, \"dislikes\": 3, \"followers\": 10 }\n",
    "print(dict_to_list(test_dict_2))"
   ]
  },
  {
   "cell_type": "markdown",
   "id": "d4d83e98",
   "metadata": {},
   "source": [
    "<span style=\"font-family: SF Pro Display; font-size: 18px; font-weight: Bold\">Question-3:<br></span>"
   ]
  },
  {
   "cell_type": "markdown",
   "id": "58e1c515",
   "metadata": {},
   "source": [
    "<span style=\"font-family: SF Pro Display; font-size: 18px;\">Write a function that creates a dictionary with each (key, value) pair being the (lower case, upper case) versions of a letter, respectively.<br></span>\n",
    "<span style=\"font-family: SF Pro Display; font-size: 16px; font-weight: Bold\">Examples:<br></span>\n",
    "\n",
    "    mapping([\"p\", \"s\"]) ➞ { \"p\":\"P\", \"s\": \"S\" }\n",
    "    \n",
    "    mapping([\"a\", \"b\", \"c\"]) ➞ { \"a\": \"A\", \"b\": \"B\", \"c\": \"C\" }\n",
    "    \n",
    "    mapping([\"a\", \"v\", \"y\", \"z\"]) ➞ { \"a\": \"A\", \"v\": \"V\", \"y\": \"Y\", \"z\": \"Z\" }\n",
    "\n",
    "<span style=\"font-family: SF Pro Display; font-size: 16px; font-weight: Bold\">Notes:<br></span>\n",
    "<span style=\"font-family: SF Pro Display; font-size: 16px;\">All of the letters in the input list will always be lowercase.</span>"
   ]
  },
  {
   "cell_type": "code",
   "execution_count": 32,
   "id": "1ebcbe42",
   "metadata": {
    "ExecuteTime": {
     "end_time": "2022-07-03T05:19:26.629397Z",
     "start_time": "2022-07-03T05:19:26.617430Z"
    }
   },
   "outputs": [],
   "source": [
    "def mapping(alphabet_list):\n",
    "    # Creating an empty dictionary.\n",
    "    mapped_dict = {}\n",
    "    for i in alphabet_list:\n",
    "        if (i.islower() == True):\n",
    "            mapped_dict[i] = i.upper()\n",
    "    return mapped_dict"
   ]
  },
  {
   "cell_type": "code",
   "execution_count": 33,
   "id": "90508789",
   "metadata": {
    "ExecuteTime": {
     "end_time": "2022-07-03T05:19:28.262074Z",
     "start_time": "2022-07-03T05:19:28.257087Z"
    }
   },
   "outputs": [
    {
     "data": {
      "text/plain": [
       "{'p': 'P', 's': 'S'}"
      ]
     },
     "execution_count": 33,
     "metadata": {},
     "output_type": "execute_result"
    }
   ],
   "source": [
    "# Test-case-1:\n",
    "mapping([\"p\", \"s\"])"
   ]
  },
  {
   "cell_type": "code",
   "execution_count": 34,
   "id": "5639a6c5",
   "metadata": {
    "ExecuteTime": {
     "end_time": "2022-07-03T05:19:30.274107Z",
     "start_time": "2022-07-03T05:19:30.267127Z"
    }
   },
   "outputs": [
    {
     "data": {
      "text/plain": [
       "{'a': 'A', 'b': 'B', 'c': 'C'}"
      ]
     },
     "execution_count": 34,
     "metadata": {},
     "output_type": "execute_result"
    }
   ],
   "source": [
    "# Test-case-2:\n",
    "mapping([\"a\", \"b\", \"c\"])"
   ]
  },
  {
   "cell_type": "code",
   "execution_count": 35,
   "id": "2cf4a2dd",
   "metadata": {
    "ExecuteTime": {
     "end_time": "2022-07-03T05:19:32.004780Z",
     "start_time": "2022-07-03T05:19:31.998797Z"
    }
   },
   "outputs": [
    {
     "data": {
      "text/plain": [
       "{'a': 'A', 'v': 'V', 'y': 'Y', 'z': 'Z'}"
      ]
     },
     "execution_count": 35,
     "metadata": {},
     "output_type": "execute_result"
    }
   ],
   "source": [
    "# Test-case-3:\n",
    "mapping([\"a\", \"v\", \"y\", \"z\"])"
   ]
  },
  {
   "cell_type": "markdown",
   "id": "7d9d5342",
   "metadata": {
    "ExecuteTime": {
     "end_time": "2022-07-03T05:20:22.878483Z",
     "start_time": "2022-07-03T05:20:22.863544Z"
    }
   },
   "source": [
    "<span style=\"font-family: SF Pro Display; font-size: 18px; font-weight: Bold\">Question-4:<br></span>"
   ]
  },
  {
   "cell_type": "markdown",
   "id": "5aa790cf",
   "metadata": {},
   "source": [
    "<span style=\"font-family: SF Pro Display; font-size: 18px;\">Write a function, that replaces all vowels in a string with a specified vowel.<br></span>\n",
    "\n",
    "<span style=\"font-family: SF Pro Display; font-size: 16px; font-weight: Bold\">Examples:<br></span>\n",
    "\n",
    "    vow_replace(\"apples and bananas\", \"u\") ➞ \"upplus und bununus\"\n",
    "    \n",
    "    vow_replace(\"cheese casserole\", \"o\") ➞ \"chooso cossorolo\"\n",
    "    \n",
    "    vow_replace(\"stuffed jalapeno poppers\", \"e\") ➞ \"steffed jelepene peppers\"\n",
    "\n",
    "<span style=\"font-family: SF Pro Display; font-size: 16px; font-weight: Bold\">Notes:<br></span>\n",
    "<span style=\"font-family: SF Pro Display; font-size: 16px;\">All words will be lowercase. Y is not considered a vowel.</span>"
   ]
  },
  {
   "cell_type": "code",
   "execution_count": 45,
   "id": "34049533",
   "metadata": {
    "ExecuteTime": {
     "end_time": "2022-07-03T05:29:13.239019Z",
     "start_time": "2022-07-03T05:29:13.230044Z"
    }
   },
   "outputs": [],
   "source": [
    "def vow_replace(string, vow):\n",
    "    return string.replace(\"a\", vow).replace(\"e\", vow).replace(\"i\", vow).\\\n",
    "replace(\"o\", vow).replace(\"u\", vow).replace(\"A\", vow).replace(\"E\", vow).replace(\"I\", vow).\\\n",
    "replace(\"O\", vow).replace(\"U\", vow)"
   ]
  },
  {
   "cell_type": "code",
   "execution_count": 46,
   "id": "3500f104",
   "metadata": {
    "ExecuteTime": {
     "end_time": "2022-07-03T05:29:15.210746Z",
     "start_time": "2022-07-03T05:29:15.192793Z"
    }
   },
   "outputs": [
    {
     "data": {
      "text/plain": [
       "'upplus und bununus'"
      ]
     },
     "execution_count": 46,
     "metadata": {},
     "output_type": "execute_result"
    }
   ],
   "source": [
    "# Test-case-1:\n",
    "vow_replace(\"apples and bananas\", \"u\")"
   ]
  },
  {
   "cell_type": "code",
   "execution_count": 47,
   "id": "7deb803a",
   "metadata": {
    "ExecuteTime": {
     "end_time": "2022-07-03T05:31:30.901279Z",
     "start_time": "2022-07-03T05:31:30.886329Z"
    }
   },
   "outputs": [
    {
     "data": {
      "text/plain": [
       "'chooso cossorolo'"
      ]
     },
     "execution_count": 47,
     "metadata": {},
     "output_type": "execute_result"
    }
   ],
   "source": [
    "# Test-case-2:\n",
    "vow_replace(\"cheese casserole\", \"o\")"
   ]
  },
  {
   "cell_type": "code",
   "execution_count": 48,
   "id": "c16c1866",
   "metadata": {
    "ExecuteTime": {
     "end_time": "2022-07-03T05:31:32.256870Z",
     "start_time": "2022-07-03T05:31:32.250887Z"
    }
   },
   "outputs": [
    {
     "data": {
      "text/plain": [
       "'steffed jelepene peppers'"
      ]
     },
     "execution_count": 48,
     "metadata": {},
     "output_type": "execute_result"
    }
   ],
   "source": [
    "# Test-case-3:\n",
    "vow_replace(\"stuffed jalapeno poppers\", \"e\")"
   ]
  },
  {
   "cell_type": "markdown",
   "id": "f38a83e6",
   "metadata": {},
   "source": [
    "<span style=\"font-family: SF Pro Display; font-size: 18px; font-weight: Bold\">Question-5:<br></span>"
   ]
  },
  {
   "cell_type": "markdown",
   "id": "8f2e9a29",
   "metadata": {},
   "source": [
    "<span style=\"font-family: SF Pro Display; font-size: 18px;\">Create a function that takes a string as input and capitalizes a letter if its ASCII code is even and returns its lower case version if its ASCII code is odd.<br></span>\n",
    "\n",
    "<span style=\"font-family: SF Pro Display; font-size: 16px; font-weight: Bold\">Examples:<br></span>\n",
    "\n",
    "    ascii_capitalize(\"to be or not to be!\") ➞ \"To Be oR NoT To Be!\"\n",
    "    \n",
    "    ascii_capitalize(\"THE LITTLE MERMAID\") ➞ \"THe LiTTLe meRmaiD\"\n",
    "    \n",
    "    ascii_capitalize(\"Oh what a beautiful morning.\") ➞ \"oH wHaT a BeauTiFuL moRNiNg.\""
   ]
  },
  {
   "cell_type": "code",
   "execution_count": 76,
   "id": "3eed08cc",
   "metadata": {
    "ExecuteTime": {
     "end_time": "2022-07-03T06:09:06.958862Z",
     "start_time": "2022-07-03T06:09:06.952877Z"
    }
   },
   "outputs": [],
   "source": [
    "def ascii_capitalize(asc_str):\n",
    "    n_asc_str = []\n",
    "    for i in range(0,(len(asc_str))):\n",
    "        # Checking if the char is an lower/uppercase alphabet based on ascii\n",
    "        # Excluding numbers and symbols from the replacement criteria.\n",
    "        if (((ord(asc_str[i])) >= 97 & (ord(asc_str[i])) <= 122) | \\\n",
    "        ((ord(asc_str[i])) >= 65 & (ord(asc_str[i])) <= 90)):\n",
    "            if ((ord(asc_str[i]))%2 == 0):\n",
    "                n_asc_str.append(asc_str[i].upper())\n",
    "            else:\n",
    "                n_asc_str.append(asc_str[i].lower())\n",
    "        else:\n",
    "            n_asc_str.append(asc_str[i])\n",
    "    return \"\".join(n_asc_str)"
   ]
  },
  {
   "cell_type": "code",
   "execution_count": 77,
   "id": "72918886",
   "metadata": {
    "ExecuteTime": {
     "end_time": "2022-07-03T06:09:08.610043Z",
     "start_time": "2022-07-03T06:09:08.594092Z"
    }
   },
   "outputs": [
    {
     "data": {
      "text/plain": [
       "'To Be oR NoT To Be!'"
      ]
     },
     "execution_count": 77,
     "metadata": {},
     "output_type": "execute_result"
    }
   ],
   "source": [
    "ascii_capitalize(\"to be or not to be!\")"
   ]
  },
  {
   "cell_type": "code",
   "execution_count": 78,
   "id": "f970ace9",
   "metadata": {
    "ExecuteTime": {
     "end_time": "2022-07-03T06:09:16.169540Z",
     "start_time": "2022-07-03T06:09:16.154581Z"
    }
   },
   "outputs": [
    {
     "data": {
      "text/plain": [
       "'THe LiTTLe meRmaiD'"
      ]
     },
     "execution_count": 78,
     "metadata": {},
     "output_type": "execute_result"
    }
   ],
   "source": [
    "ascii_capitalize(\"THE LITTLE MERMAID\")"
   ]
  },
  {
   "cell_type": "code",
   "execution_count": 79,
   "id": "6a857c34",
   "metadata": {
    "ExecuteTime": {
     "end_time": "2022-07-03T06:09:20.377299Z",
     "start_time": "2022-07-03T06:09:20.366329Z"
    }
   },
   "outputs": [
    {
     "data": {
      "text/plain": [
       "'oH wHaT a BeauTiFuL moRNiNg.'"
      ]
     },
     "execution_count": 79,
     "metadata": {},
     "output_type": "execute_result"
    }
   ],
   "source": [
    "ascii_capitalize(\"Oh what a beautiful morning.\")"
   ]
  }
 ],
 "metadata": {
  "kernelspec": {
   "display_name": "Python 3 (ipykernel)",
   "language": "python",
   "name": "python3"
  },
  "language_info": {
   "codemirror_mode": {
    "name": "ipython",
    "version": 3
   },
   "file_extension": ".py",
   "mimetype": "text/x-python",
   "name": "python",
   "nbconvert_exporter": "python",
   "pygments_lexer": "ipython3",
   "version": "3.9.7"
  }
 },
 "nbformat": 4,
 "nbformat_minor": 5
}
