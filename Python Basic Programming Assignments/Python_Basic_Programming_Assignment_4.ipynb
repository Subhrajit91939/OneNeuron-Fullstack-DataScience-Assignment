{
 "cells": [
  {
   "cell_type": "markdown",
   "id": "d58bac20",
   "metadata": {},
   "source": [
    "# Assignment-4: https://drive.google.com/file/d/1QxfssGYhN_Lt5N6515K1YtpauV5q-Vh1/view"
   ]
  },
  {
   "cell_type": "code",
   "execution_count": 1,
   "id": "e0e76ac0",
   "metadata": {
    "ExecuteTime": {
     "end_time": "2022-06-09T16:17:08.382929Z",
     "start_time": "2022-06-09T16:17:08.363981Z"
    }
   },
   "outputs": [],
   "source": [
    "#Question-1:\n",
    "#Find the factorial of a Number:\n",
    "#Brute Force Approach.\n",
    "def factorial(n):\n",
    "    k = 1\n",
    "    for i in range(1, n+1):\n",
    "        k = k*i\n",
    "    return k"
   ]
  },
  {
   "cell_type": "code",
   "execution_count": 2,
   "id": "e63a4275",
   "metadata": {
    "ExecuteTime": {
     "end_time": "2022-06-09T16:17:30.075218Z",
     "start_time": "2022-06-09T16:17:08.384924Z"
    }
   },
   "outputs": [
    {
     "name": "stdout",
     "output_type": "stream",
     "text": [
      "Enter the Number: 6\n"
     ]
    },
    {
     "data": {
      "text/plain": [
       "720"
      ]
     },
     "execution_count": 2,
     "metadata": {},
     "output_type": "execute_result"
    }
   ],
   "source": [
    "factorial(int(input(\"Enter the Number: \")))"
   ]
  },
  {
   "cell_type": "code",
   "execution_count": 3,
   "id": "94505fff",
   "metadata": {
    "ExecuteTime": {
     "end_time": "2022-06-09T16:17:30.091031Z",
     "start_time": "2022-06-09T16:17:30.076075Z"
    }
   },
   "outputs": [],
   "source": [
    "#Question-2:\n",
    "#Multiplication Table:\n",
    "def multp_table(g):\n",
    "    print(f\"Multiplication Table of Number: {g}\")\n",
    "    print(\"_\".center(len(\"Multiplication Table of Number: {g}\"), '_'))\n",
    "    for i in range(1,11):\n",
    "        print(f\" {g} X {i} = {g*i}\")\n",
    "    return None"
   ]
  },
  {
   "cell_type": "code",
   "execution_count": 4,
   "id": "2a7bedec",
   "metadata": {
    "ExecuteTime": {
     "end_time": "2022-06-09T16:17:30.105991Z",
     "start_time": "2022-06-09T16:17:30.092030Z"
    }
   },
   "outputs": [
    {
     "name": "stdout",
     "output_type": "stream",
     "text": [
      "Multiplication Table of Number: 8\n",
      "___________________________________\n",
      " 8 X 1 = 8\n",
      " 8 X 2 = 16\n",
      " 8 X 3 = 24\n",
      " 8 X 4 = 32\n",
      " 8 X 5 = 40\n",
      " 8 X 6 = 48\n",
      " 8 X 7 = 56\n",
      " 8 X 8 = 64\n",
      " 8 X 9 = 72\n",
      " 8 X 10 = 80\n"
     ]
    }
   ],
   "source": [
    "multp_table(8)"
   ]
  },
  {
   "cell_type": "code",
   "execution_count": 68,
   "id": "3918c354",
   "metadata": {
    "ExecuteTime": {
     "end_time": "2022-06-09T17:04:25.103670Z",
     "start_time": "2022-06-09T17:04:25.088711Z"
    }
   },
   "outputs": [],
   "source": [
    "#Question-3:\n",
    "#Print Fibonnaci Sequence\n",
    "n = 50\n",
    "def fibonnaci(upper_limit):\n",
    "    n1, n2 = 0, 1\n",
    "    count = 0\n",
    "    fib_sum = 0\n",
    "    l = []\n",
    "    if (upper_limit<=0):\n",
    "        print(\"Enter a Posiive Number.\")\n",
    "    elif (upper_limit==1):\n",
    "            print(0)\n",
    "    else:\n",
    "        while(count<upper_limit):\n",
    "            l.append(n1)\n",
    "            fib_sum  = n1 + n2\n",
    "            n1 = n2\n",
    "            n2 = fib_sum\n",
    "            count += 1\n",
    "    return l"
   ]
  },
  {
   "cell_type": "code",
   "execution_count": 71,
   "id": "6b4cb393",
   "metadata": {
    "ExecuteTime": {
     "end_time": "2022-06-09T17:05:56.843551Z",
     "start_time": "2022-06-09T17:05:56.835547Z"
    }
   },
   "outputs": [
    {
     "name": "stdout",
     "output_type": "stream",
     "text": [
      "For 20 Terms the Fibonnaci series is: [0, 1, 1, 2, 3, 5, 8, 13, 21, 34, 55, 89, 144, 233, 377, 610, 987, 1597, 2584, 4181]\n"
     ]
    }
   ],
   "source": [
    "no_terms = 20\n",
    "print(f\"For {no_terms} Terms the Fibonnaci series is: {fibonnaci(int(no_terms))}\")"
   ]
  },
  {
   "cell_type": "code",
   "execution_count": 6,
   "id": "4ea80b57",
   "metadata": {
    "ExecuteTime": {
     "end_time": "2022-06-09T16:17:45.585555Z",
     "start_time": "2022-06-09T16:17:30.123217Z"
    }
   },
   "outputs": [
    {
     "name": "stdout",
     "output_type": "stream",
     "text": [
      "1 5 3\n",
      "The Given numbers forms an Armstrong Number: 153\n"
     ]
    }
   ],
   "source": [
    "#Question-4:\n",
    "#Check for armstrong number:\n",
    "#assuming the armstrong number to be a 3-digit number.\n",
    "a,b,c = [int(x) for x in input().split()]\n",
    "#brute force approach\n",
    "if (((a**3) + (b**3) + (c**3)) == ((100*a) + (10*b) + c)):\n",
    "    print(f\"The Given numbers forms an Armstrong Number: {((100*a) + (10*b) + c)}\")\n",
    "else:\n",
    "    print(\"The given numbers don't form an Armstrong number.\")"
   ]
  },
  {
   "cell_type": "code",
   "execution_count": 13,
   "id": "b3e3a9bf",
   "metadata": {
    "ExecuteTime": {
     "end_time": "2022-06-09T16:20:44.913609Z",
     "start_time": "2022-06-09T16:20:44.900347Z"
    }
   },
   "outputs": [],
   "source": [
    "#Approach-2: \n",
    "#Taking a 3-digit number as input\n",
    "def armstrong_num(num):\n",
    "    sum_num = 0\n",
    "    temp = num\n",
    "    while temp>0:\n",
    "        i = temp%10\n",
    "        sum_num  = sum_num + i**3\n",
    "        temp //=10\n",
    "        \n",
    "    if(sum_num == num):\n",
    "        return \"The given number is an Armstrong Number.\"\n",
    "    else:\n",
    "        return \"The given number is not an Armstrong Number.\"\n"
   ]
  },
  {
   "cell_type": "code",
   "execution_count": 14,
   "id": "8a3fde6e",
   "metadata": {
    "ExecuteTime": {
     "end_time": "2022-06-09T16:20:48.173252Z",
     "start_time": "2022-06-09T16:20:46.245453Z"
    }
   },
   "outputs": [
    {
     "name": "stdout",
     "output_type": "stream",
     "text": [
      "Enter the number to check for Armstrong Number: 153\n"
     ]
    },
    {
     "data": {
      "text/plain": [
       "'The given number is an Armstrong Number.'"
      ]
     },
     "execution_count": 14,
     "metadata": {},
     "output_type": "execute_result"
    }
   ],
   "source": [
    "arm_num = int(input(\"Enter the number to check for Armstrong Number: \"))\n",
    "armstrong_num(arm_num)"
   ]
  },
  {
   "cell_type": "code",
   "execution_count": 40,
   "id": "f34ac0af",
   "metadata": {
    "ExecuteTime": {
     "end_time": "2022-06-09T16:32:00.996375Z",
     "start_time": "2022-06-09T16:32:00.991389Z"
    }
   },
   "outputs": [],
   "source": [
    "#Question-5:\n",
    "#Armstrong Number in an Interval:\n",
    "def armstrong(lower, upper):\n",
    "    la = []\n",
    "    for k in range(lower, upper+1):\n",
    "        n = len(str(k))\n",
    "        sum_arm = 0\n",
    "        temp = k\n",
    "        while temp>0:\n",
    "            i = temp%10\n",
    "            sum_arm  = sum_arm + i**n\n",
    "            temp //=10\n",
    "        \n",
    "        if (sum_arm == k):\n",
    "            la.append(int(sum_arm))\n",
    "    return la"
   ]
  },
  {
   "cell_type": "code",
   "execution_count": 48,
   "id": "77283ccc",
   "metadata": {
    "ExecuteTime": {
     "end_time": "2022-06-09T16:34:25.051005Z",
     "start_time": "2022-06-09T16:34:24.881172Z"
    }
   },
   "outputs": [
    {
     "name": "stdout",
     "output_type": "stream",
     "text": [
      "Armstrong numbers between 150 & 80000 are: [153, 370, 371, 407, 1634, 8208, 9474, 54748]\n"
     ]
    }
   ],
   "source": [
    "num_1 = 150\n",
    "num_2 = 80000\n",
    "print(f\"Armstrong numbers between {num_1} & {num_2} are: {armstrong(num_1,num_2)}\")"
   ]
  },
  {
   "cell_type": "code",
   "execution_count": null,
   "id": "595b4cc5",
   "metadata": {
    "ExecuteTime": {
     "end_time": "2022-06-09T16:02:15.087527Z",
     "start_time": "2022-06-09T16:02:10.415710Z"
    }
   },
   "outputs": [],
   "source": []
  },
  {
   "cell_type": "code",
   "execution_count": null,
   "id": "a12b48f1",
   "metadata": {
    "ExecuteTime": {
     "end_time": "2022-06-09T16:17:57.773649Z",
     "start_time": "2022-06-09T16:17:57.773649Z"
    }
   },
   "outputs": [],
   "source": [
    "#Question-6:\n",
    "#Sum of Natural numbers\n",
    "z = int(input(\"Enter the Natural number upto which the Sum is required: \"))\n",
    "#without using for loop\n",
    "print(f\"Sum of the First {z} Natural numbers: {int(0.5*z*(z+1))} \")"
   ]
  }
 ],
 "metadata": {
  "kernelspec": {
   "display_name": "Python 3 (ipykernel)",
   "language": "python",
   "name": "python3"
  },
  "language_info": {
   "codemirror_mode": {
    "name": "ipython",
    "version": 3
   },
   "file_extension": ".py",
   "mimetype": "text/x-python",
   "name": "python",
   "nbconvert_exporter": "python",
   "pygments_lexer": "ipython3",
   "version": "3.9.7"
  },
  "toc": {
   "base_numbering": 1,
   "nav_menu": {},
   "number_sections": true,
   "sideBar": true,
   "skip_h1_title": false,
   "title_cell": "Table of Contents",
   "title_sidebar": "Contents",
   "toc_cell": false,
   "toc_position": {},
   "toc_section_display": true,
   "toc_window_display": false
  }
 },
 "nbformat": 4,
 "nbformat_minor": 5
}
