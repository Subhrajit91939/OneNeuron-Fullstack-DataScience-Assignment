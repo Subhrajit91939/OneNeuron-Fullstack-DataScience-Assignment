{
 "cells": [
  {
   "cell_type": "markdown",
   "id": "911f7284",
   "metadata": {},
   "source": [
    "<span style=\"font-family: SF Pro Display; font-size: 22px; font-weight: Bold\">Python Basic Programming Assignment-23</span>"
   ]
  },
  {
   "cell_type": "markdown",
   "id": "1ced1c96",
   "metadata": {
    "ExecuteTime": {
     "end_time": "2022-07-03T04:48:18.244121Z",
     "start_time": "2022-07-03T04:48:18.234148Z"
    }
   },
   "source": [
    "<span style=\"font-family: SF Pro Display; font-size: 18px; font-weight: Bold\">Question-1:<br></span>"
   ]
  },
  {
   "cell_type": "markdown",
   "id": "c692a27c",
   "metadata": {},
   "source": [
    "<span style=\"font-family: SF Pro Display; font-size: 18px;\">Create a function that takes a number as an argument and returns True or False depending on whether the number is symmetrical or not. A number is symmetrical when it is the same as\n",
    "its reverse.<br></span>\n",
    "\n",
    "<span style=\"font-family: SF Pro Display; font-size: 16px; font-weight: Bold\">Examples:<br></span>\n",
    "<span style=\"font-family: SF Pro Display; font-size: 16px;\">\n",
    "    \n",
    "    is_symmetrical(7227) ➞ True\n",
    "    is_symmetrical(12567) ➞ False\n",
    "    is_symmetrical(44444444) ➞ True\n",
    "    is_symmetrical(9939) ➞ False\n",
    "    is_symmetrical(1112111) ➞ True\n",
    "</span>"
   ]
  },
  {
   "cell_type": "code",
   "execution_count": 27,
   "id": "02a3a7b6",
   "metadata": {
    "ExecuteTime": {
     "end_time": "2022-07-04T06:37:32.073685Z",
     "start_time": "2022-07-04T06:37:32.054736Z"
    }
   },
   "outputs": [],
   "source": [
    "def is_symmetrical(n):\n",
    "    \"\"\"\n",
    "    is_symmetrical(n) ➞ True/False (Bool)\n",
    "    Returns if the input integer is symmetrical (or) not.\n",
    "    \"\"\"\n",
    "    # Converting the string\n",
    "    total_string = [i for i in str(n)]\n",
    "    left_side = []\n",
    "    right_side = []\n",
    "    sym_len = len(str(n))\n",
    "    for k in range(sym_len):\n",
    "        if (sym_len%2==0):\n",
    "            if(k<(sym_len//2)):\n",
    "                left_side.append(total_string[k])\n",
    "            elif(k>=(sym_len//2)):\n",
    "                right_side.append(total_string[k])\n",
    "        elif (sym_len%2!=0):\n",
    "            if(k<(sym_len//2)):\n",
    "                left_side.append(total_string[k])\n",
    "            elif(k>(sym_len//2)):\n",
    "                right_side.append(total_string[k])\n",
    "    \n",
    "    left = int(\"\".join(left_side))\n",
    "    right = int(\"\".join(right_side[::-1]))\n",
    "    if (left == right):\n",
    "        return True\n",
    "    else:\n",
    "        return False"
   ]
  },
  {
   "cell_type": "code",
   "execution_count": 57,
   "id": "481cb09b",
   "metadata": {
    "ExecuteTime": {
     "end_time": "2022-07-04T07:10:19.600689Z",
     "start_time": "2022-07-04T07:10:19.585730Z"
    }
   },
   "outputs": [
    {
     "name": "stdout",
     "output_type": "stream",
     "text": [
      "Result for test-case-1: True\n",
      "Result for test-case-2: False\n",
      "Result for test-case-3: True\n",
      "Result for test-case-4: False\n",
      "Result for test-case-5: True\n"
     ]
    }
   ],
   "source": [
    "num_list = [7227, 12567, 44444444, 9939, 1112111]\n",
    "# Printing the testcases:\n",
    "test = 1\n",
    "for num in num_list:\n",
    "    print(f\"Result for test-case-{test}: {is_symmetrical(num)}\")\n",
    "    test += 1"
   ]
  },
  {
   "cell_type": "markdown",
   "id": "d711931e",
   "metadata": {},
   "source": [
    "<span style=\"font-family: SF Pro Display; font-size: 18px; font-weight: Bold\">Question-2:<br></span>"
   ]
  },
  {
   "cell_type": "markdown",
   "id": "58e1c515",
   "metadata": {},
   "source": [
    "<span style=\"font-family: SF Pro Display; font-size: 18px;\">Given a string of numbers separated by a comma and space, return the product of the numbers.<br></span>\n",
    "<span style=\"font-family: SF Pro Display; font-size: 16px; font-weight: Bold\">Examples:<br></span>\n",
    "\n",
    "    multiply_nums(\"2, 3\") ➞ 6\n",
    "    multiply_nums(\"1, 2, 3, 4\") ➞ 24\n",
    "    multiply_nums(\"54, 75, 453, 0\") ➞ 0\n",
    "    multiply_nums(\"10, -2\") ➞ -20\n"
   ]
  },
  {
   "cell_type": "code",
   "execution_count": 31,
   "id": "1dc9390d",
   "metadata": {
    "ExecuteTime": {
     "end_time": "2022-07-04T06:44:08.811128Z",
     "start_time": "2022-07-04T06:44:08.796167Z"
    }
   },
   "outputs": [],
   "source": [
    "def multiply_nums(input_string):\n",
    "    \"\"\"\n",
    "    multiply_nums() ➞ int\n",
    "    Function returns the product of all the numbers in the input string.\n",
    "    \"\"\"\n",
    "    num_list = list(map(int, input_string.split(\", \")))\n",
    "    product = 1;\n",
    "    for num in num_list:\n",
    "        product *= num;\n",
    "    return int(product)"
   ]
  },
  {
   "cell_type": "code",
   "execution_count": 54,
   "id": "4d4e65c7",
   "metadata": {
    "ExecuteTime": {
     "end_time": "2022-07-04T07:08:38.006256Z",
     "start_time": "2022-07-04T07:08:37.988321Z"
    }
   },
   "outputs": [
    {
     "name": "stdout",
     "output_type": "stream",
     "text": [
      "Result for test-case-1 : 6\n",
      "Result for test-case-2 : 24\n",
      "Result for test-case-3 : 0\n",
      "Result for test-case-4 : -20\n"
     ]
    }
   ],
   "source": [
    "str_list = [\"2, 3\", \"1, 2, 3, 4\", \"54, 75, 453, 0\", \"10, -2\"]\n",
    "# Printing the testcases:\n",
    "test = 1\n",
    "for num_str in str_list:\n",
    "    print(f\"Result for test-case-{test} : {multiply_nums(num_str)}\")\n",
    "    test += 1"
   ]
  },
  {
   "cell_type": "markdown",
   "id": "d4d83e98",
   "metadata": {},
   "source": [
    "<span style=\"font-family: SF Pro Display; font-size: 18px; font-weight: Bold\">Question-3:<br></span>"
   ]
  },
  {
   "cell_type": "markdown",
   "id": "1006d443",
   "metadata": {},
   "source": [
    "<span style=\"font-family: SF Pro Display; font-size: 18px;\">Create a function that squares every digit of a number.<br></span>\n",
    "\n",
    "<span style=\"font-family: SF Pro Display; font-size: 16px; font-weight: Bold\">Examples:<br></span>\n",
    "\n",
    "    square_digits(9119) ➞ 811181\n",
    "    square_digits(2483) ➞ 416649\n",
    "    square_digits(3212) ➞ 9414\n",
    "    \n",
    "<span style=\"font-family: SF Pro Display; font-size: 16px; font-weight: Bold\">Notes:<br></span>\n",
    "<span style=\"font-family: SF Pro Display; font-size: 16px;\">The function receives an integer and must return an integer.</span>"
   ]
  },
  {
   "cell_type": "code",
   "execution_count": 44,
   "id": "eb6fb49b",
   "metadata": {
    "ExecuteTime": {
     "end_time": "2022-07-04T06:57:38.742161Z",
     "start_time": "2022-07-04T06:57:38.730193Z"
    }
   },
   "outputs": [],
   "source": [
    "def square_digits(digits):\n",
    "    \"\"\"\n",
    "    square_digits() ➞ int\n",
    "    Function returns a number that has the squares of every digit of the input number.\n",
    "    \"\"\"\n",
    "    squares_list = [str(int(x)**2) for x in str(digits)]\n",
    "    return \"\".join(squares_list)\n",
    "    "
   ]
  },
  {
   "cell_type": "code",
   "execution_count": 56,
   "id": "6312b5aa",
   "metadata": {
    "ExecuteTime": {
     "end_time": "2022-07-04T07:09:36.611053Z",
     "start_time": "2022-07-04T07:09:36.605044Z"
    }
   },
   "outputs": [
    {
     "name": "stdout",
     "output_type": "stream",
     "text": [
      "Result for test-case-1 : 811181\n",
      "Result for test-case-2 : 416649\n",
      "Result for test-case-3 : 9414\n"
     ]
    }
   ],
   "source": [
    "num_list_3 = [9119, 2483, 3212]\n",
    "# Printing the testcases:\n",
    "test = 1\n",
    "for num in num_list_3:\n",
    "    print(f\"Result for test-case-{test} : {square_digits(num)}\")\n",
    "    test += 1"
   ]
  },
  {
   "cell_type": "markdown",
   "id": "7d9d5342",
   "metadata": {
    "ExecuteTime": {
     "end_time": "2022-07-03T05:20:22.878483Z",
     "start_time": "2022-07-03T05:20:22.863544Z"
    }
   },
   "source": [
    "<span style=\"font-family: SF Pro Display; font-size: 18px; font-weight: Bold\">Question-4:<br></span>"
   ]
  },
  {
   "cell_type": "markdown",
   "id": "5aa790cf",
   "metadata": {},
   "source": [
    "<span style=\"font-family: SF Pro Display; font-size: 18px;\">Create a function that sorts a list and removes all duplicate items from it.<br></span>\n",
    "\n",
    "<span style=\"font-family: SF Pro Display; font-size: 16px; font-weight: Bold\">Examples:<br></span>\n",
    "\n",
    "    setify([1, 3, 3, 5, 5]) ➞ [1, 3, 5]\n",
    "    setify([4, 4, 4, 4]) ➞ [4]\n",
    "    setify([5, 7, 8, 9, 10, 15]) ➞ [5, 7, 8, 9, 10, 15]\n",
    "    setify([3, 3, 3, 2, 1]) ➞ [1, 2, 3]\n"
   ]
  },
  {
   "cell_type": "code",
   "execution_count": 47,
   "id": "9b59b767",
   "metadata": {
    "ExecuteTime": {
     "end_time": "2022-07-04T07:03:40.341634Z",
     "start_time": "2022-07-04T07:03:40.329665Z"
    }
   },
   "outputs": [],
   "source": [
    "def setify(dup_sort_filt):\n",
    "    \"\"\"\n",
    "    Function that sorts a given list and removes all the duplicate items from it\n",
    "    \"\"\"\n",
    "    filt_list = []\n",
    "    for num in dup_sort_filt:\n",
    "        if (num not in filt_list):\n",
    "            filt_list.append(num)\n",
    "    filt_list.sort()\n",
    "    return filt_list"
   ]
  },
  {
   "cell_type": "code",
   "execution_count": 53,
   "id": "c9b650b0",
   "metadata": {
    "ExecuteTime": {
     "end_time": "2022-07-04T07:05:36.803608Z",
     "start_time": "2022-07-04T07:05:36.789615Z"
    }
   },
   "outputs": [
    {
     "name": "stdout",
     "output_type": "stream",
     "text": [
      "[1, 3, 5]\n",
      "[4]\n",
      "[5, 7, 8, 9, 10, 15]\n",
      "[1, 2, 3]\n"
     ]
    }
   ],
   "source": [
    "test_list = [[1, 3, 3, 5, 5], [4, 4, 4, 4], [5, 7, 8, 9, 10, 15], [3, 3, 3, 2, 1]]\n",
    "# Printing the testcases:\n",
    "for num_list in test_list:\n",
    "    print(f\"{setify(num_list)}\")"
   ]
  },
  {
   "cell_type": "markdown",
   "id": "f38a83e6",
   "metadata": {},
   "source": [
    "<span style=\"font-family: SF Pro Display; font-size: 18px; font-weight: Bold\">Question-5:<br></span>"
   ]
  },
  {
   "cell_type": "markdown",
   "id": "8f2e9a29",
   "metadata": {},
   "source": [
    "<span style=\"font-family: SF Pro Display; font-size: 18px;\">Create a function that returns the mean of all digits.<br></span>\n",
    "\n",
    "<span style=\"font-family: SF Pro Display; font-size: 16px; font-weight: Bold\">Examples:<br></span>\n",
    "\n",
    "    mean(42) ➞ 3\n",
    "    mean(12345) ➞ 3\n",
    "    mean(666) ➞ 6\n",
    "\n",
    "<span style=\"font-family: SF Pro Display; font-size: 16px; font-weight: Bold\">Notes:<br></span>\n",
    "- <span style=\"font-family: SF Pro Display; font-size: 16px;\">The mean of all digits is the sum of digits / how many digits there are (e.g. mean of digits in 512 is (5+1+2)/3(number of digits) = 8/3=2).</span>\n",
    "- <span style=\"font-family: SF Pro Display; font-size: 16px;\">The mean will always be an integer.</span>\n"
   ]
  },
  {
   "cell_type": "code",
   "execution_count": 61,
   "id": "9a160638",
   "metadata": {
    "ExecuteTime": {
     "end_time": "2022-07-04T08:30:33.985922Z",
     "start_time": "2022-07-04T08:30:33.968860Z"
    }
   },
   "outputs": [],
   "source": [
    "def mean(n):\n",
    "    digit_list = [int(i) for i in str(n)]\n",
    "    return (sum(digit_list)//len(str(n)))"
   ]
  },
  {
   "cell_type": "code",
   "execution_count": 62,
   "id": "649a38b7",
   "metadata": {
    "ExecuteTime": {
     "end_time": "2022-07-04T08:30:35.574618Z",
     "start_time": "2022-07-04T08:30:35.569017Z"
    }
   },
   "outputs": [
    {
     "name": "stdout",
     "output_type": "stream",
     "text": [
      "Result for test-case-1 : 3\n",
      "Result for test-case-2 : 3\n",
      "Result for test-case-3 : 6\n"
     ]
    }
   ],
   "source": [
    "num_list_3 = [42, 12345, 666]\n",
    "# Printing the testcases:\n",
    "test = 1\n",
    "for num in num_list_3:\n",
    "    print(f\"Result for test-case-{test} : {mean(num)}\")\n",
    "    test += 1"
   ]
  }
 ],
 "metadata": {
  "kernelspec": {
   "display_name": "Python 3 (ipykernel)",
   "language": "python",
   "name": "python3"
  },
  "language_info": {
   "codemirror_mode": {
    "name": "ipython",
    "version": 3
   },
   "file_extension": ".py",
   "mimetype": "text/x-python",
   "name": "python",
   "nbconvert_exporter": "python",
   "pygments_lexer": "ipython3",
   "version": "3.9.7"
  }
 },
 "nbformat": 4,
 "nbformat_minor": 5
}
