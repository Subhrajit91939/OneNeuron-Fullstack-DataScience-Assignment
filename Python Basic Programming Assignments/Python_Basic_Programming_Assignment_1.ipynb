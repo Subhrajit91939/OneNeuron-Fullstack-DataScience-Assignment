{
 "cells": [
  {
   "cell_type": "markdown",
   "id": "caad0a46",
   "metadata": {},
   "source": [
    "#Assignment Questions: https://drive.google.com/file/d/1ysyuWcppZ5VV8T-tnEZLgHtkFS_xj-u5/view"
   ]
  },
  {
   "cell_type": "code",
   "execution_count": 1,
   "id": "4588a86c",
   "metadata": {
    "ExecuteTime": {
     "end_time": "2022-06-09T07:24:32.549246Z",
     "start_time": "2022-06-09T07:24:32.536280Z"
    }
   },
   "outputs": [
    {
     "name": "stdout",
     "output_type": "stream",
     "text": [
      "Hello Python\n"
     ]
    }
   ],
   "source": [
    "#Question-1: \n",
    "print(\"Hello Python\")"
   ]
  },
  {
   "cell_type": "code",
   "execution_count": 2,
   "id": "2aefff93",
   "metadata": {
    "ExecuteTime": {
     "end_time": "2022-06-09T07:24:32.564205Z",
     "start_time": "2022-06-09T07:24:32.551241Z"
    }
   },
   "outputs": [
    {
     "name": "stdout",
     "output_type": "stream",
     "text": [
      "Addition of numbers:- 4,2: 6\n",
      "Division of numbers: 10,2: 5.0\n"
     ]
    }
   ],
   "source": [
    "#Question-2:\n",
    "#Simple addition function:\n",
    "def addition(num1, num2):\n",
    "    return (num1 + num2)\n",
    "\n",
    "def division(num1, num2):\n",
    "    return (num1/num2)\n",
    "\n",
    "print(f\"Addition of numbers:- 4,2: {addition(4,2)}\")\n",
    "print(f\"Division of numbers: 10,2: {division(10,2)}\")"
   ]
  },
  {
   "cell_type": "code",
   "execution_count": 3,
   "id": "5d916e12",
   "metadata": {
    "ExecuteTime": {
     "end_time": "2022-06-09T07:24:32.579211Z",
     "start_time": "2022-06-09T07:24:32.566204Z"
    }
   },
   "outputs": [
    {
     "name": "stdout",
     "output_type": "stream",
     "text": [
      "Area of the Triangle with Base = 10 and Height = 12 is equal to: 60.0\n",
      "Area of the triangle with three given sides: 59.92\n"
     ]
    }
   ],
   "source": [
    "#Question-3:\n",
    "#Area of the triangle with height and the Base given\n",
    "base = 10\n",
    "height = 12\n",
    "print(f\"Area of the Triangle with Base = {base} and Height = {height} is equal to: {0.5*base*height}\")\n",
    "\n",
    "#Area of the triangle if the three sides are given:\n",
    "side_1 = 10\n",
    "side_2 = 12\n",
    "side_3 = 16\n",
    "\n",
    "s = 0.5*(side_1 + side_2 + side_3)\n",
    "#Area of the triangle:\n",
    "Area = (s*(s-side_1)*(s-side_2)*(s-side_3))**0.5\n",
    "\n",
    "print(f\"Area of the triangle with three given sides: {round(Area,2)}\")"
   ]
  },
  {
   "cell_type": "code",
   "execution_count": 4,
   "id": "4890acc4",
   "metadata": {
    "ExecuteTime": {
     "end_time": "2022-06-09T07:24:32.595154Z",
     "start_time": "2022-06-09T07:24:32.581160Z"
    }
   },
   "outputs": [
    {
     "name": "stdout",
     "output_type": "stream",
     "text": [
      "Current values of a: 8 & b: 7\n",
      "Values of a: 7 & b: 8 after swapping\n"
     ]
    }
   ],
   "source": [
    "#Question-4:\n",
    "#Swapping two varibles:\n",
    "a = 8\n",
    "b = 7\n",
    "print(f\"Current values of a: {a} & b: {b}\")\n",
    "#using a temporary variable:\n",
    "temp = a\n",
    "a = b\n",
    "b = temp\n",
    "print(f\"Values of a: {a} & b: {b} after swapping\")"
   ]
  },
  {
   "cell_type": "code",
   "execution_count": 5,
   "id": "8651e0b3",
   "metadata": {
    "ExecuteTime": {
     "end_time": "2022-06-09T07:24:32.610116Z",
     "start_time": "2022-06-09T07:24:32.597118Z"
    }
   },
   "outputs": [
    {
     "name": "stdout",
     "output_type": "stream",
     "text": [
      "87\n"
     ]
    }
   ],
   "source": [
    "#Question-5:\n",
    "#Generating random integer:\n",
    "import random\n",
    "print(random.randint(0,100))"
   ]
  }
 ],
 "metadata": {
  "kernelspec": {
   "display_name": "Python 3 (ipykernel)",
   "language": "python",
   "name": "python3"
  },
  "language_info": {
   "codemirror_mode": {
    "name": "ipython",
    "version": 3
   },
   "file_extension": ".py",
   "mimetype": "text/x-python",
   "name": "python",
   "nbconvert_exporter": "python",
   "pygments_lexer": "ipython3",
   "version": "3.9.7"
  },
  "toc": {
   "base_numbering": 1,
   "nav_menu": {},
   "number_sections": true,
   "sideBar": true,
   "skip_h1_title": false,
   "title_cell": "Table of Contents",
   "title_sidebar": "Contents",
   "toc_cell": false,
   "toc_position": {},
   "toc_section_display": true,
   "toc_window_display": false
  }
 },
 "nbformat": 4,
 "nbformat_minor": 5
}
