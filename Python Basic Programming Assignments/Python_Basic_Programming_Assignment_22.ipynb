{
 "cells": [
  {
   "cell_type": "markdown",
   "id": "911f7284",
   "metadata": {},
   "source": [
    "<span style=\"font-family: SF Pro Display; font-size: 22px; font-weight: Bold\">Python Basic Programming Assignment-22</span>"
   ]
  },
  {
   "cell_type": "markdown",
   "id": "1ced1c96",
   "metadata": {
    "ExecuteTime": {
     "end_time": "2022-07-03T04:48:18.244121Z",
     "start_time": "2022-07-03T04:48:18.234148Z"
    }
   },
   "source": [
    "<span style=\"font-family: SF Pro Display; font-size: 18px; font-weight: Bold\">Question-1:<br></span>"
   ]
  },
  {
   "cell_type": "markdown",
   "id": "c692a27c",
   "metadata": {},
   "source": [
    "<span style=\"font-family: SF Pro Display; font-size: 18px;\">Create a function that takes three parameters where:</span>\n",
    "- <span style=\"font-family: SF Pro Display; font-size: 18px;\">x is the start of the range (inclusive).</span>\n",
    "- <span style=\"font-family: SF Pro Display; font-size: 18px;\">y is the end of the range (inclusive).</span>\n",
    "- <span style=\"font-family: SF Pro Display; font-size: 18px;\">n is the divisor to be checked against.</span>\n",
    "\n",
    "<span style=\"font-family: SF Pro Display; font-size: 18px;\">Return an ordered list with numbers in the range that are divisible by the third parameter n.\n",
    "Return an empty list if there are no numbers that are divisible by n.<br></span>\n",
    "\n",
    "<span style=\"font-family: SF Pro Display; font-size: 16px; font-weight: Bold\">Examples:<br></span>\n",
    "<span style=\"font-family: SF Pro Display; font-size: 16px;\">\n",
    "    \n",
    "    list_operation(1, 10, 3) ➞ [3, 6, 9]\n",
    "    list_operation(7, 9, 2) ➞ [8]\n",
    "    list_operation(15, 20, 7) ➞ []\n"
   ]
  },
  {
   "cell_type": "code",
   "execution_count": 5,
   "id": "ccc2337c",
   "metadata": {
    "ExecuteTime": {
     "end_time": "2022-07-04T08:50:23.150771Z",
     "start_time": "2022-07-04T08:50:23.136377Z"
    }
   },
   "outputs": [],
   "source": [
    "def list_operation(x, y, n):\n",
    "    \"\"\"\n",
    "    list_operation(x, y, n)\n",
    "    Function that returns a list of numbers between [x, y] that are divisible by n.\n",
    "    x: Start of the range(inclusive).\n",
    "    y: End of the range(inclusive).\n",
    "    n: divisor to be checked against.\n",
    "    \"\"\"\n",
    "    l_ops = []\n",
    "    for i in range(x, y+1):\n",
    "        if ((i%n) == 0):\n",
    "            l_ops.append(i)\n",
    "    return l_ops"
   ]
  },
  {
   "cell_type": "code",
   "execution_count": 6,
   "id": "95999344",
   "metadata": {
    "ExecuteTime": {
     "end_time": "2022-07-04T08:50:25.021970Z",
     "start_time": "2022-07-04T08:50:25.006912Z"
    }
   },
   "outputs": [
    {
     "data": {
      "text/plain": [
       "[3, 6, 9]"
      ]
     },
     "execution_count": 6,
     "metadata": {},
     "output_type": "execute_result"
    }
   ],
   "source": [
    "# Test-case: 1\n",
    "list_operation(1, 10, 3)"
   ]
  },
  {
   "cell_type": "code",
   "execution_count": 7,
   "id": "d0aa35c4",
   "metadata": {
    "ExecuteTime": {
     "end_time": "2022-07-04T08:50:26.505043Z",
     "start_time": "2022-07-04T08:50:26.489016Z"
    },
    "scrolled": true
   },
   "outputs": [
    {
     "data": {
      "text/plain": [
       "[8]"
      ]
     },
     "execution_count": 7,
     "metadata": {},
     "output_type": "execute_result"
    }
   ],
   "source": [
    "# Test-case: 2\n",
    "list_operation(7, 9, 2)"
   ]
  },
  {
   "cell_type": "code",
   "execution_count": 8,
   "id": "9d6b237e",
   "metadata": {
    "ExecuteTime": {
     "end_time": "2022-07-04T08:50:27.844081Z",
     "start_time": "2022-07-04T08:50:27.833927Z"
    }
   },
   "outputs": [
    {
     "data": {
      "text/plain": [
       "[]"
      ]
     },
     "execution_count": 8,
     "metadata": {},
     "output_type": "execute_result"
    }
   ],
   "source": [
    "# Test-case: 3\n",
    "list_operation(15, 20, 7) "
   ]
  },
  {
   "cell_type": "markdown",
   "id": "d711931e",
   "metadata": {},
   "source": [
    "<span style=\"font-family: SF Pro Display; font-size: 18px; font-weight: Bold\">Question-2:<br></span>"
   ]
  },
  {
   "cell_type": "markdown",
   "id": "58e1c515",
   "metadata": {},
   "source": [
    "<span style=\"font-family: SF Pro Display; font-size: 18px;\">Create a function that takes in two lists and returns True if the second list follows the first list by one element, and False otherwise. In other words, determine if the second list is the first list shifted to the right by 1.<br></span>\n",
    "<span style=\"font-family: SF Pro Display; font-size: 16px; font-weight: Bold\">Examples:<br></span>\n",
    "\n",
    "    simon_says([1, 2], [5, 1]) ➞ True\n",
    "    simon_says([1, 2], [5, 5]) ➞ False\n",
    "    simon_says([1, 2, 3, 4, 5], [0, 1, 2, 3, 4]) ➞ True\n",
    "    simon_says([1, 2, 3, 4, 5], [5, 5, 1, 2, 3]) ➞ False\n",
    "\n",
    "<span style=\"font-family: SF Pro Display; font-size: 16px; font-weight: Bold\">Notes:<br></span>\n",
    "- <span style=\"font-family: SF Pro Display; font-size: 16px;\">Both input lists will be of the same length, and will have a minimum length of 2.</span>\n",
    "- <span style=\"font-family: SF Pro Display; font-size: 16px;\">The values of the 0-indexed element in the second list and the n-1th indexed element in the first list do not matter.</span>"
   ]
  },
  {
   "cell_type": "code",
   "execution_count": 30,
   "id": "7be5e476",
   "metadata": {
    "ExecuteTime": {
     "end_time": "2022-07-04T10:02:52.489230Z",
     "start_time": "2022-07-04T10:02:52.468287Z"
    }
   },
   "outputs": [],
   "source": [
    "def simon_says(list_1,list_2):\n",
    "    \"\"\"\n",
    "    simon_says(list1, list2)\n",
    "    \n",
    "    The Function returns bool values.\n",
    "    It checks if the second list (list2) is equal to the first list(list1) shifted to the right by 1.\n",
    "    \"\"\"\n",
    "    list_1.remove(list_1[len(list_1)-1])\n",
    "    list_2.remove(list_2[0])\n",
    "    if set(list_1) == set(list_2):\n",
    "        return True\n",
    "    else:\n",
    "        return False"
   ]
  },
  {
   "cell_type": "code",
   "execution_count": 26,
   "id": "86f5729f",
   "metadata": {
    "ExecuteTime": {
     "end_time": "2022-07-04T09:59:54.735865Z",
     "start_time": "2022-07-04T09:59:54.719907Z"
    }
   },
   "outputs": [
    {
     "data": {
      "text/plain": [
       "True"
      ]
     },
     "execution_count": 26,
     "metadata": {},
     "output_type": "execute_result"
    }
   ],
   "source": [
    "# Test-case: 1\n",
    "simon_says([1, 2], [5, 1])"
   ]
  },
  {
   "cell_type": "code",
   "execution_count": 27,
   "id": "61af34a8",
   "metadata": {
    "ExecuteTime": {
     "end_time": "2022-07-04T10:00:10.699148Z",
     "start_time": "2022-07-04T10:00:10.693164Z"
    }
   },
   "outputs": [
    {
     "data": {
      "text/plain": [
       "False"
      ]
     },
     "execution_count": 27,
     "metadata": {},
     "output_type": "execute_result"
    }
   ],
   "source": [
    "# Test-case: 2\n",
    "simon_says([1, 2], [5, 5]) "
   ]
  },
  {
   "cell_type": "code",
   "execution_count": 29,
   "id": "b159366a",
   "metadata": {
    "ExecuteTime": {
     "end_time": "2022-07-04T10:00:26.317004Z",
     "start_time": "2022-07-04T10:00:26.297057Z"
    }
   },
   "outputs": [
    {
     "data": {
      "text/plain": [
       "True"
      ]
     },
     "execution_count": 29,
     "metadata": {},
     "output_type": "execute_result"
    }
   ],
   "source": [
    "# Test-case: 3\n",
    "simon_says([1, 2, 3, 4, 5], [0, 1, 2, 3, 4])"
   ]
  },
  {
   "cell_type": "code",
   "execution_count": 28,
   "id": "cd749cb7",
   "metadata": {
    "ExecuteTime": {
     "end_time": "2022-07-04T10:00:18.746438Z",
     "start_time": "2022-07-04T10:00:18.733439Z"
    }
   },
   "outputs": [
    {
     "data": {
      "text/plain": [
       "False"
      ]
     },
     "execution_count": 28,
     "metadata": {},
     "output_type": "execute_result"
    }
   ],
   "source": [
    "# Test-case: 4\n",
    "simon_says([1, 2, 3, 4, 5], [5, 5, 1, 2, 3])"
   ]
  },
  {
   "cell_type": "markdown",
   "id": "d4d83e98",
   "metadata": {},
   "source": [
    "<span style=\"font-family: SF Pro Display; font-size: 18px; font-weight: Bold\">Question-3:<br></span>"
   ]
  },
  {
   "cell_type": "markdown",
   "id": "1006d443",
   "metadata": {},
   "source": [
    "<span style=\"font-family: SF Pro Display; font-size: 18px;\">A group of friends have decided to start a secret society. The name will be the first letter of each of their names, sorted in alphabetical order.\n",
    "Create a function that takes in a list of names and returns the name of the secret society.<br></span>\n",
    "\n",
    "<span style=\"font-family: SF Pro Display; font-size: 16px; font-weight: Bold\">Examples:<br></span>\n",
    "\n",
    "    society_name([\"Adam\", \"Sarah\", \"Malcolm\"]) ➞ \"AMS\"\n",
    "    society_name([\"Harry\", \"Newt\", \"Luna&quot\", \"Cho\"]) ➞ \"CHLN\"\n",
    "    society_name([\"Phoebe\", \"Chandler\", \"Rachel\", \"Ross\", \"Monica\", \"Joey\"]) ➞ \"CJMPRR\"\n"
   ]
  },
  {
   "cell_type": "code",
   "execution_count": 10,
   "id": "18c75ac0",
   "metadata": {
    "ExecuteTime": {
     "end_time": "2022-07-04T08:52:11.942752Z",
     "start_time": "2022-07-04T08:52:11.934737Z"
    }
   },
   "outputs": [],
   "source": [
    "def society_name(name_list):\n",
    "    secret_name = []\n",
    "    name_list.sort()\n",
    "    # Creating a new list and extracting and appending the first letter from each entry \n",
    "        # in the given list to the new list (secret_name list).\n",
    "    for name in name_list:\n",
    "        secret_name.append(name[0])\n",
    "    return \"\".join(secret_name)"
   ]
  },
  {
   "cell_type": "code",
   "execution_count": 13,
   "id": "3e11d438",
   "metadata": {
    "ExecuteTime": {
     "end_time": "2022-07-04T08:56:09.965725Z",
     "start_time": "2022-07-04T08:56:09.953070Z"
    }
   },
   "outputs": [
    {
     "name": "stdout",
     "output_type": "stream",
     "text": [
      "Result for test-case-1: 'AMS'\n",
      "Result for test-case-2: 'CHLN'\n",
      "Result for test-case-3: 'CJMPRR'\n"
     ]
    }
   ],
   "source": [
    "test_list = [[\"Adam\", \"Sarah\", \"Malcolm\"], [\"Harry\", \"Newt\", \"Luna&quot\", \"Cho\"], \\\n",
    "             [\"Phoebe\", \"Chandler\", \"Rachel\", \"Ross\", \"Monica\", \"Joey\"]]\n",
    "# Printing the testcases:\n",
    "test = 1\n",
    "for names_test in test_list:\n",
    "    print(f\"Result for test-case-{test}: '{society_name(names_test)}'\")\n",
    "    test += 1"
   ]
  },
  {
   "cell_type": "markdown",
   "id": "7d9d5342",
   "metadata": {
    "ExecuteTime": {
     "end_time": "2022-07-03T05:20:22.878483Z",
     "start_time": "2022-07-03T05:20:22.863544Z"
    }
   },
   "source": [
    "<span style=\"font-family: SF Pro Display; font-size: 18px; font-weight: Bold\">Question-4:<br></span>"
   ]
  },
  {
   "cell_type": "markdown",
   "id": "5aa790cf",
   "metadata": {},
   "source": [
    "<span style=\"font-family: SF Pro Display; font-size: 18px;\">An isogram is a word that has no duplicate letters. Create a function that takes a string and returns either True or False depending on whether or not it's an \"isogram\".<br></span>\n",
    "\n",
    "<span style=\"font-family: SF Pro Display; font-size: 16px; font-weight: Bold\">Examples:<br></span>\n",
    "\n",
    "    is_isogram(\"Algorism\") ➞ True\n",
    "    is_isogram(\"PasSword\") ➞ False\n",
    "    # Not case sensitive.\n",
    "    is_isogram(\"Consecutive\") ➞ False\n",
    "\n",
    "<span style=\"font-family: SF Pro Display; font-size: 16px; font-weight: Bold\">Notes:<br></span>\n",
    "- <span style=\"font-family: SF Pro Display; font-size: 16px;\">Ignore letter case (should not be case sensitive).</span>\n",
    "- <span style=\"font-family: SF Pro Display; font-size: 16px;\">All test cases contain valid one word strings.</span>"
   ]
  },
  {
   "cell_type": "code",
   "execution_count": 31,
   "id": "7382438d",
   "metadata": {
    "ExecuteTime": {
     "end_time": "2022-07-04T10:05:09.591950Z",
     "start_time": "2022-07-04T10:05:09.576992Z"
    }
   },
   "outputs": [],
   "source": [
    "def is_isogram(pat_string):\n",
    "    new_str = []\n",
    "    counter = 0\n",
    "    # using a counter to check for any duplicate occurance in the string.\n",
    "    # if we encounter any duplicate for loop breaks and we print the result to \n",
    "        # reducing the time to compile.\n",
    "    for pat in pat_string:\n",
    "        if pat.lower() not in new_str:\n",
    "            new_str.append(pat)\n",
    "        else:\n",
    "            counter += 1\n",
    "            break\n",
    "    if (counter>0):\n",
    "        return False\n",
    "    elif (counter==0):\n",
    "        return True"
   ]
  },
  {
   "cell_type": "code",
   "execution_count": 32,
   "id": "be22aa96",
   "metadata": {
    "ExecuteTime": {
     "end_time": "2022-07-04T10:05:11.115590Z",
     "start_time": "2022-07-04T10:05:11.109606Z"
    }
   },
   "outputs": [
    {
     "name": "stdout",
     "output_type": "stream",
     "text": [
      "Result for test-case-1: 'True'\n",
      "Result for test-case-2: 'False'\n",
      "Result for test-case-3: 'False'\n"
     ]
    }
   ],
   "source": [
    "test_list = [\"Algorism\", \"PasSword\", \"Consecutive\"]\n",
    "# Printing the testcases:\n",
    "test = 1\n",
    "for names_test in test_list:\n",
    "    print(f\"Result for test-case-{test}: '{is_isogram(names_test)}'\")\n",
    "    test += 1"
   ]
  },
  {
   "cell_type": "markdown",
   "id": "f38a83e6",
   "metadata": {},
   "source": [
    "<span style=\"font-family: SF Pro Display; font-size: 18px; font-weight: Bold\">Question-5:<br></span>"
   ]
  },
  {
   "cell_type": "markdown",
   "id": "8f2e9a29",
   "metadata": {},
   "source": [
    "<span style=\"font-family: SF Pro Display; font-size: 18px;\">Create a function that takes a string and returns True or False, depending on whether the characters are in order or not.<br></span>\n",
    "\n",
    "<span style=\"font-family: SF Pro Display; font-size: 16px; font-weight: Bold\">Examples:<br></span>\n",
    "\n",
    "    is_in_order(\"abc\") ➞ True\n",
    "    is_in_order(\"edabit\") ➞ False\n",
    "    is_in_order(\"123\") ➞ True\n",
    "    is_in_order(\"xyzz\") ➞ True\n",
    "\n",
    "<span style=\"font-family: SF Pro Display; font-size: 16px; font-weight: Bold\">Notes:<br></span>\n",
    "<span style=\"font-family: SF Pro Display; font-size: 16px;\">You don't have to handle empty strings.</span>\n"
   ]
  },
  {
   "cell_type": "code",
   "execution_count": 22,
   "id": "a93eaf8e",
   "metadata": {
    "ExecuteTime": {
     "end_time": "2022-07-04T09:55:01.108829Z",
     "start_time": "2022-07-04T09:55:01.094866Z"
    }
   },
   "outputs": [],
   "source": [
    "def is_in_order(test_strings):\n",
    "    str_list = [x for x in test_strings]\n",
    "    str_list.sort()\n",
    "    # creating another string sorted alphabetically/numerically and checking if it matches the\n",
    "    # original string.\n",
    "    check = \"\".join(str_list)\n",
    "    if (check != test_strings):\n",
    "        return False\n",
    "    else:\n",
    "        return True"
   ]
  },
  {
   "cell_type": "code",
   "execution_count": 23,
   "id": "649ba405",
   "metadata": {
    "ExecuteTime": {
     "end_time": "2022-07-04T09:55:02.774201Z",
     "start_time": "2022-07-04T09:55:02.753260Z"
    }
   },
   "outputs": [
    {
     "name": "stdout",
     "output_type": "stream",
     "text": [
      "Result for test-case-1: 'True'\n",
      "Result for test-case-2: 'False'\n",
      "Result for test-case-3: 'True'\n",
      "Result for test-case-4: 'True'\n"
     ]
    }
   ],
   "source": [
    "test_list = [\"abc\", \"edabit\", \"123\", \"xyzz\"]\n",
    "# Printing the testcases:\n",
    "test = 1\n",
    "for names_test in test_list:\n",
    "    print(f\"Result for test-case-{test}: '{is_in_order(names_test)}'\")\n",
    "    test += 1"
   ]
  }
 ],
 "metadata": {
  "kernelspec": {
   "display_name": "Python 3 (ipykernel)",
   "language": "python",
   "name": "python3"
  },
  "language_info": {
   "codemirror_mode": {
    "name": "ipython",
    "version": 3
   },
   "file_extension": ".py",
   "mimetype": "text/x-python",
   "name": "python",
   "nbconvert_exporter": "python",
   "pygments_lexer": "ipython3",
   "version": "3.9.7"
  }
 },
 "nbformat": 4,
 "nbformat_minor": 5
}
