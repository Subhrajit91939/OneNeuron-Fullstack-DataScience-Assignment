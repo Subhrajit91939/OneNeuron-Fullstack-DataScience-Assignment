{
 "cells": [
  {
   "cell_type": "markdown",
   "id": "aacb09e9",
   "metadata": {},
   "source": [
    "#Assignment-2: https://drive.google.com/file/d/1BNWLsiLTRTpxod2uctrPWRjEiMIk9PM2/view"
   ]
  },
  {
   "cell_type": "code",
   "execution_count": 5,
   "id": "4aabc731",
   "metadata": {
    "ExecuteTime": {
     "end_time": "2022-06-09T07:47:43.501710Z",
     "start_time": "2022-06-09T07:47:41.747493Z"
    }
   },
   "outputs": [
    {
     "name": "stdout",
     "output_type": "stream",
     "text": [
      "Enter the distance in Kilometers: \n",
      "5\n",
      "5.0 Kilometers = 3.107 miles\n"
     ]
    }
   ],
   "source": [
    "#Question-1:\n",
    "#Convert Kilometers to miles:\n",
    "print(f\"Enter the distance in Kilometers: \")\n",
    "Kilo = float(input())\n",
    "print(f\"{Kilo} Kilometers = {round(0.621371*Kilo, 3)} miles\")"
   ]
  },
  {
   "cell_type": "code",
   "execution_count": 6,
   "id": "7afc62b5",
   "metadata": {
    "ExecuteTime": {
     "end_time": "2022-06-09T07:48:52.808942Z",
     "start_time": "2022-06-09T07:48:48.206773Z"
    }
   },
   "outputs": [
    {
     "name": "stdout",
     "output_type": "stream",
     "text": [
      "Enter the Temperature in Celsius: \n",
      "25\n",
      "25.0 Degree Celsius = 77.0 Degree Farenhiet\n"
     ]
    }
   ],
   "source": [
    "#Question-2:\n",
    "#Convert Deg Centigrade to Farenhiet:\n",
    "print(f\"Enter the Temperature in Celsius: \")\n",
    "Celsius = float(input())\n",
    "print(f\"{Celsius} Degree Celsius = {round((((9/5)*Celsius) + 32), 3)} Degree Farenhiet\")"
   ]
  },
  {
   "cell_type": "code",
   "execution_count": 29,
   "id": "c290dbff",
   "metadata": {
    "ExecuteTime": {
     "end_time": "2022-06-09T08:17:47.663187Z",
     "start_time": "2022-06-09T08:17:41.832967Z"
    }
   },
   "outputs": [
    {
     "name": "stdout",
     "output_type": "stream",
     "text": [
      "Enter the year and the month to retrieve the Calender: 2022 06\n",
      "     June 2022\n",
      "Mo Tu We Th Fr Sa Su\n",
      "       1  2  3  4  5\n",
      " 6  7  8  9 10 11 12\n",
      "13 14 15 16 17 18 19\n",
      "20 21 22 23 24 25 26\n",
      "27 28 29 30\n",
      "\n"
     ]
    }
   ],
   "source": [
    "#Question-3:\n",
    "#Display Calender\n",
    "import calendar\n",
    "yy, mm = [int(i) for i in input(\"Enter the year and the month to retrieve the Calender: \").split()]\n",
    "\n",
    "print(calendar.month(yy, mm))"
   ]
  },
  {
   "cell_type": "code",
   "execution_count": 28,
   "id": "c8351ce5",
   "metadata": {
    "ExecuteTime": {
     "end_time": "2022-06-09T08:14:46.434075Z",
     "start_time": "2022-06-09T08:14:42.758226Z"
    }
   },
   "outputs": [
    {
     "name": "stdout",
     "output_type": "stream",
     "text": [
      "Enter the coefficients for the given quadratic equation: 1 1 1\n",
      "The given Quadratic equation has non-real roots = (-0.49999999999999994+0.8660254037844386j), (-0.5-0.8660254037844386j)\n",
      "\n"
     ]
    }
   ],
   "source": [
    "#Question-4:\n",
    "#Solve Quadratic Equation:\n",
    "a,b,c = [float(x) for x in input(\"Enter the coefficients for the given quadratic equation: \").split()]\n",
    "\n",
    "real = -(b/(2*a))\n",
    "im = ((((b*b) -(4*a*c))**0.5)/(2*a))\n",
    "if (((b*b) - (4*a*c)) == 0):\n",
    "    print(f\"The given Quadratic equation has real and equal roots = {real}\\n\")\n",
    "elif (((b*b) - (4*a*c)) > 0):\n",
    "    print(f\"The given Quadratic equation has real and unequal roots = {real + im},  {real - im}\\n\")\n",
    "else:\n",
    "    print(f\"The given Quadratic equation has non-real roots = {real + im}, {real - im}\\n\")"
   ]
  },
  {
   "cell_type": "code",
   "execution_count": 33,
   "id": "72a6d80d",
   "metadata": {
    "ExecuteTime": {
     "end_time": "2022-06-09T08:32:33.364674Z",
     "start_time": "2022-06-09T08:32:30.997590Z"
    }
   },
   "outputs": [
    {
     "name": "stdout",
     "output_type": "stream",
     "text": [
      "Enter the numbers to be swapped:4 5\n",
      "Swapped Numbers: Number-1: 5; Number-2: 4\n"
     ]
    }
   ],
   "source": [
    "#Question-5:\n",
    "#Swap two variables without Temp Variable:\n",
    "\n",
    "x, y = [int(k) for k in input(\"Enter the numbers to be swapped:\").split()]\n",
    "\n",
    "x = x + y\n",
    "y = x - y\n",
    "x = x - y\n",
    "\n",
    "print(f\"Swapped Numbers: Number-1: {x}; Number-2: {y}\")"
   ]
  }
 ],
 "metadata": {
  "kernelspec": {
   "display_name": "Python 3 (ipykernel)",
   "language": "python",
   "name": "python3"
  },
  "language_info": {
   "codemirror_mode": {
    "name": "ipython",
    "version": 3
   },
   "file_extension": ".py",
   "mimetype": "text/x-python",
   "name": "python",
   "nbconvert_exporter": "python",
   "pygments_lexer": "ipython3",
   "version": "3.9.7"
  },
  "toc": {
   "base_numbering": 1,
   "nav_menu": {},
   "number_sections": true,
   "sideBar": true,
   "skip_h1_title": false,
   "title_cell": "Table of Contents",
   "title_sidebar": "Contents",
   "toc_cell": false,
   "toc_position": {},
   "toc_section_display": true,
   "toc_window_display": false
  }
 },
 "nbformat": 4,
 "nbformat_minor": 5
}
