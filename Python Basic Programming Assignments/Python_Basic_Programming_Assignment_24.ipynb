{
 "cells": [
  {
   "cell_type": "markdown",
   "id": "911f7284",
   "metadata": {},
   "source": [
    "<span style=\"font-family: SF Pro Display; font-size: 22px; font-weight: Bold\">Python Basic Programming Assignment-25</span>"
   ]
  },
  {
   "cell_type": "markdown",
   "id": "1ced1c96",
   "metadata": {
    "ExecuteTime": {
     "end_time": "2022-07-03T04:48:18.244121Z",
     "start_time": "2022-07-03T04:48:18.234148Z"
    }
   },
   "source": [
    "<span style=\"font-family: SF Pro Display; font-size: 18px; font-weight: Bold\">Question-1:<br></span>"
   ]
  },
  {
   "cell_type": "markdown",
   "id": "c692a27c",
   "metadata": {},
   "source": [
    "<span style=\"font-family: SF Pro Display; font-size: 18px;\">Create a function that takes an integer and returns a list from 1 to the given number, where:<br></span>\n",
    "    <span style=\"font-family: SF Pro Display; font-size: 18px;\">&nbsp;&nbsp;&nbsp;&nbsp;&nbsp;1. If the number can be divided evenly by 4, amplify it by 10 (i.e. return 10 times the\n",
    "number).<br></span>\n",
    "<span style=\"font-family: SF Pro Display; font-size: 18px;\">&nbsp;&nbsp;&nbsp;&nbsp;&nbsp;2. If the number cannot be divided evenly by 4, simply return the number.<br></span>\n",
    "\n",
    "<span style=\"font-family: SF Pro Display; font-size: 16px; font-weight: Bold\">Examples:<br></span>\n",
    "<span style=\"font-family: SF Pro Display; font-size: 16px;\">\n",
    "    \n",
    "    amplify(4) ➞ [1, 2, 3, 40]\n",
    "    \n",
    "    amplify(3) ➞ [1, 2, 3]\n",
    "    \n",
    "    amplify(25) ➞ [1, 2, 3, 40, 5, 6, 7, 80, 9, 10, 11, 120, 13, 14, 15, 160, \n",
    "    17, 18, 19, 200, 21, 22, 23, 240, 25]\n",
    "\n",
    "<span style=\"font-family: SF Pro Display; font-size: 16px; font-weight: Bold\">Notes:<br></span>\n",
    "<span style=\"font-family: SF Pro Display; font-size: 16px;\">\n",
    "    - The given integer will always be equal to or greater than 1.\n",
    "    - Include the number (see example above).\n",
    "    - To perform this problem with its intended purpose, try doing it with list comprehensions. If that's too difficult, just solve the challenge any way you can."
   ]
  },
  {
   "cell_type": "code",
   "execution_count": 1,
   "id": "0fcbe788",
   "metadata": {
    "ExecuteTime": {
     "end_time": "2022-07-03T07:00:24.563172Z",
     "start_time": "2022-07-03T07:00:24.543192Z"
    }
   },
   "outputs": [],
   "source": [
    "def amplify(amp_num):\n",
    "    amp_list = []\n",
    "    for i in range(1, amp_num+1):\n",
    "        if (i%4 == 0):\n",
    "            amp_list.append(i*10)\n",
    "        else:\n",
    "            amp_list.append(i)\n",
    "    return amp_list"
   ]
  },
  {
   "cell_type": "code",
   "execution_count": 2,
   "id": "22240cb8",
   "metadata": {
    "ExecuteTime": {
     "end_time": "2022-07-03T07:00:31.552291Z",
     "start_time": "2022-07-03T07:00:31.533926Z"
    }
   },
   "outputs": [
    {
     "data": {
      "text/plain": [
       "[1, 2, 3, 40]"
      ]
     },
     "execution_count": 2,
     "metadata": {},
     "output_type": "execute_result"
    }
   ],
   "source": [
    "# Test case-1:\n",
    "print(amplify(4))"
   ]
  },
  {
   "cell_type": "code",
   "execution_count": 3,
   "id": "5e781d19",
   "metadata": {
    "ExecuteTime": {
     "end_time": "2022-07-03T07:02:03.115760Z",
     "start_time": "2022-07-03T07:02:03.106763Z"
    }
   },
   "outputs": [
    {
     "data": {
      "text/plain": [
       "[1, 2, 3]"
      ]
     },
     "execution_count": 3,
     "metadata": {},
     "output_type": "execute_result"
    }
   ],
   "source": [
    "# Test case-2:\n",
    "print(amplify(3))"
   ]
  },
  {
   "cell_type": "code",
   "execution_count": 5,
   "id": "a2850728",
   "metadata": {
    "ExecuteTime": {
     "end_time": "2022-07-03T07:02:31.943887Z",
     "start_time": "2022-07-03T07:02:31.927956Z"
    },
    "scrolled": false
   },
   "outputs": [
    {
     "name": "stdout",
     "output_type": "stream",
     "text": [
      "[1, 2, 3, 40, 5, 6, 7, 80, 9, 10, 11, 120, 13, 14, 15, 160, 17, 18, 19, 200, 21, 22, 23, 240, 25]\n"
     ]
    }
   ],
   "source": [
    "# Test case-3:\n",
    "print(amplify(25))"
   ]
  },
  {
   "cell_type": "markdown",
   "id": "d711931e",
   "metadata": {},
   "source": [
    "<span style=\"font-family: SF Pro Display; font-size: 18px; font-weight: Bold\">Question-2:<br></span>"
   ]
  },
  {
   "cell_type": "markdown",
   "id": "1006d443",
   "metadata": {},
   "source": [
    "<span style=\"font-family: SF Pro Display; font-size: 18px;\">Create a function that takes a list of numbers and return the number that's unique.<br></span>\n",
    "<span style=\"font-family: SF Pro Display; font-size: 16px; font-weight: Bold\">Examples:<br></span>\n",
    "\n",
    "    unique([3, 3, 3, 7, 3, 3]) ➞ 7\n",
    "    \n",
    "    unique([0, 0, 0.77, 0, 0]) ➞ 0.77\n",
    "    \n",
    "    unique([0, 1, 1, 1, 1, 1, 1, 1]) ➞ 0\n",
    "\n",
    "<span style=\"font-family: SF Pro Display; font-size: 16px; font-weight: Bold\">Notes:<br></span>\n",
    "<span style=\"font-family: SF Pro Display; font-size: 16px;\">Test cases will always have exactly one unique number while all others are the same.</span>"
   ]
  },
  {
   "cell_type": "code",
   "execution_count": 6,
   "id": "b617df26",
   "metadata": {
    "ExecuteTime": {
     "end_time": "2022-07-03T07:06:22.320268Z",
     "start_time": "2022-07-03T07:06:22.305262Z"
    }
   },
   "outputs": [],
   "source": [
    "def unique(unique_list):\n",
    "    # Sort the entire list:\n",
    "    unique_list.sort()\n",
    "    # Test cases will always have just one unique number while others are the same.\n",
    "    if (unique_list[0]==unique_list[1]):\n",
    "        return (unique_list[-1])\n",
    "    elif (unique_list[0] != unique_list[1]):\n",
    "        return (unique_list[0])"
   ]
  },
  {
   "cell_type": "code",
   "execution_count": 7,
   "id": "9a442e17",
   "metadata": {
    "ExecuteTime": {
     "end_time": "2022-07-03T07:07:51.794293Z",
     "start_time": "2022-07-03T07:07:51.779333Z"
    }
   },
   "outputs": [
    {
     "data": {
      "text/plain": [
       "7"
      ]
     },
     "execution_count": 7,
     "metadata": {},
     "output_type": "execute_result"
    }
   ],
   "source": [
    "# Test case-1:\n",
    "unique([3, 3, 3, 7, 3, 3])"
   ]
  },
  {
   "cell_type": "code",
   "execution_count": 8,
   "id": "b913e1d8",
   "metadata": {
    "ExecuteTime": {
     "end_time": "2022-07-03T07:07:59.654617Z",
     "start_time": "2022-07-03T07:07:59.650601Z"
    }
   },
   "outputs": [
    {
     "data": {
      "text/plain": [
       "0.77"
      ]
     },
     "execution_count": 8,
     "metadata": {},
     "output_type": "execute_result"
    }
   ],
   "source": [
    "# Test case-2:\n",
    "unique([0, 0, 0.77, 0, 0])"
   ]
  },
  {
   "cell_type": "code",
   "execution_count": 9,
   "id": "7ceb949f",
   "metadata": {
    "ExecuteTime": {
     "end_time": "2022-07-03T07:08:07.626638Z",
     "start_time": "2022-07-03T07:08:07.610682Z"
    }
   },
   "outputs": [
    {
     "data": {
      "text/plain": [
       "0"
      ]
     },
     "execution_count": 9,
     "metadata": {},
     "output_type": "execute_result"
    }
   ],
   "source": [
    "# Test case-3:\n",
    "unique([0, 1, 1, 1, 1, 1, 1, 1])"
   ]
  },
  {
   "cell_type": "markdown",
   "id": "d4d83e98",
   "metadata": {},
   "source": [
    "<span style=\"font-family: SF Pro Display; font-size: 18px; font-weight: Bold\">Question-3:<br></span>"
   ]
  },
  {
   "cell_type": "markdown",
   "id": "58e1c515",
   "metadata": {},
   "source": [
    "<span style=\"font-family: SF Pro Display; font-size: 18px;\">Your task is to create a Circle constructor that creates a circle with a radius provided by an argument. The circles constructed must have two getters getArea() (PIr^2) and getPerimeter() (2PI*r) which give both respective areas and perimeter (circumference).For help with this class, I have provided you with a Rectangle constructor which you can use as a base example.<br></span>\n",
    "<span style=\"font-family: SF Pro Display; font-size: 16px; font-weight: Bold\">Examples:<br></span>\n",
    "\n",
    "    circy = Circle(11)\n",
    "    circy.getArea()\n",
    "    # Should return 380.132711084365\n",
    "    \n",
    "    circy = Circle(4.44)\n",
    "    circy.getPerimeter()\n",
    "    # Should return 27.897342763877365\n",
    "\n",
    "<span style=\"font-family: SF Pro Display; font-size: 16px; font-weight: Bold\">Notes:<br></span>\n",
    "<span style=\"font-family: SF Pro Display; font-size: 16px;\">Round results up to the nearest integer.</span>"
   ]
  },
  {
   "cell_type": "code",
   "execution_count": 21,
   "id": "e8ae4949",
   "metadata": {
    "ExecuteTime": {
     "end_time": "2022-07-04T05:12:30.939154Z",
     "start_time": "2022-07-04T05:12:30.921203Z"
    }
   },
   "outputs": [],
   "source": [
    "#OOP Concept part.\n",
    "import math\n",
    "class Circle:\n",
    "    \"\"\"\n",
    "    Circle constructor: To get the Area and the Perimeter of circle of any given radius.\n",
    "    \"\"\"\n",
    "    PI = 3.141593\n",
    "    def __init__(self, r):\n",
    "        self.radius = r\n",
    "    def getArea(self):\n",
    "        return round(self.PI*self.radius*self.radius)\n",
    "    def getPerimeter(self):\n",
    "        return round(2*self.PI*self.radius)"
   ]
  },
  {
   "cell_type": "code",
   "execution_count": 19,
   "id": "836737a4",
   "metadata": {
    "ExecuteTime": {
     "end_time": "2022-07-04T05:10:13.446101Z",
     "start_time": "2022-07-04T05:10:13.428149Z"
    }
   },
   "outputs": [
    {
     "data": {
      "text/plain": [
       "380"
      ]
     },
     "execution_count": 19,
     "metadata": {},
     "output_type": "execute_result"
    }
   ],
   "source": [
    "# Test case-1:\n",
    "circy = Circle(11)\n",
    "circy.getArea()\n",
    "# Rounding the results to the nearest integer"
   ]
  },
  {
   "cell_type": "code",
   "execution_count": 20,
   "id": "47ec880a",
   "metadata": {
    "ExecuteTime": {
     "end_time": "2022-07-04T05:10:18.102556Z",
     "start_time": "2022-07-04T05:10:18.095577Z"
    }
   },
   "outputs": [
    {
     "data": {
      "text/plain": [
       "28"
      ]
     },
     "execution_count": 20,
     "metadata": {},
     "output_type": "execute_result"
    }
   ],
   "source": [
    "# Test case-2:\n",
    "circy = Circle(4.44)\n",
    "circy.getPerimeter()\n",
    "# Rounding the results to the nearest integer"
   ]
  },
  {
   "cell_type": "markdown",
   "id": "7d9d5342",
   "metadata": {
    "ExecuteTime": {
     "end_time": "2022-07-03T05:20:22.878483Z",
     "start_time": "2022-07-03T05:20:22.863544Z"
    }
   },
   "source": [
    "<span style=\"font-family: SF Pro Display; font-size: 18px; font-weight: Bold\">Question-4:<br></span>"
   ]
  },
  {
   "cell_type": "markdown",
   "id": "5aa790cf",
   "metadata": {},
   "source": [
    "<span style=\"font-family: SF Pro Display; font-size: 18px;\">Create a function that takes a list of strings and return a list, sorted from shortest to longest.<br></span>\n",
    "\n",
    "<span style=\"font-family: SF Pro Display; font-size: 16px; font-weight: Bold\">Examples:<br></span>\n",
    "\n",
    "    sort_by_length([\"Google\", \"Apple\", \"Microsoft\"])\n",
    "    ➞ [\"Apple\", \"Google\", \"Microsoft\"]\n",
    "    \n",
    "    sort_by_length([\"Leonardo\", \"Michelangelo\", \"Raphael\", \"Donatello\"])\n",
    "    ➞ [\"Raphael\", \"Leonardo\", \"Donatello\", \"Michelangelo\"]\n",
    "    \n",
    "    sort_by_length([\"Turing\", \"Einstein\", \"Jung\"])\n",
    "    ➞ [\"Jung\", \"Turing\", \"Einstein\"]\n",
    "\n",
    "<span style=\"font-family: SF Pro Display; font-size: 16px; font-weight: Bold\">Notes:<br></span>\n",
    "<span style=\"font-family: SF Pro Display; font-size: 16px;\">All test cases contain lists with strings of different lengths, so you won't have to deal with multiple strings of the same length.</span>"
   ]
  },
  {
   "cell_type": "code",
   "execution_count": 1,
   "id": "a09d8f3b",
   "metadata": {
    "ExecuteTime": {
     "end_time": "2022-07-04T04:56:27.679454Z",
     "start_time": "2022-07-04T04:56:27.660504Z"
    }
   },
   "outputs": [],
   "source": [
    "# Method: Using List sort() method.\n",
    "def sort_by_length(len_sort_list):\n",
    "    len_sort = sorted(len_sort_list, key=len)\n",
    "    return len_sort"
   ]
  },
  {
   "cell_type": "code",
   "execution_count": 2,
   "id": "37ff3014",
   "metadata": {
    "ExecuteTime": {
     "end_time": "2022-07-04T04:56:29.735099Z",
     "start_time": "2022-07-04T04:56:29.720141Z"
    }
   },
   "outputs": [
    {
     "name": "stdout",
     "output_type": "stream",
     "text": [
      "['Apple', 'Google', 'Microsoft']\n"
     ]
    }
   ],
   "source": [
    "# Test-case-1:\n",
    "print(sort_by_length([\"Google\", \"Apple\", \"Microsoft\"]))"
   ]
  },
  {
   "cell_type": "code",
   "execution_count": 3,
   "id": "4da52a88",
   "metadata": {
    "ExecuteTime": {
     "end_time": "2022-07-04T04:56:31.496935Z",
     "start_time": "2022-07-04T04:56:31.478983Z"
    }
   },
   "outputs": [
    {
     "name": "stdout",
     "output_type": "stream",
     "text": [
      "['Raphael', 'Leonardo', 'Donatello', 'Michelangelo']\n"
     ]
    }
   ],
   "source": [
    "# Test-case-2:\n",
    "print(sort_by_length([\"Leonardo\", \"Michelangelo\", \"Raphael\", \"Donatello\"]))"
   ]
  },
  {
   "cell_type": "code",
   "execution_count": 4,
   "id": "ec98d320",
   "metadata": {
    "ExecuteTime": {
     "end_time": "2022-07-04T04:56:35.561328Z",
     "start_time": "2022-07-04T04:56:35.544374Z"
    }
   },
   "outputs": [
    {
     "name": "stdout",
     "output_type": "stream",
     "text": [
      "['Jung', 'Turing', 'Einstein']\n"
     ]
    }
   ],
   "source": [
    "# Test-case-3:\n",
    "print(sort_by_length([\"Turing\", \"Einstein\", \"Jung\"]))"
   ]
  },
  {
   "cell_type": "markdown",
   "id": "f38a83e6",
   "metadata": {},
   "source": [
    "<span style=\"font-family: SF Pro Display; font-size: 18px; font-weight: Bold\">Question-5:<br></span>"
   ]
  },
  {
   "cell_type": "markdown",
   "id": "8f2e9a29",
   "metadata": {},
   "source": [
    "<span style=\"font-family: SF Pro Display; font-size: 18px;\">Create a function that validates whether three given integers form a Pythagorean triplet. The sum of the squares of the two smallest integers must equal the square of the largest number to be validated.<br></span>\n",
    "\n",
    "<span style=\"font-family: SF Pro Display; font-size: 16px; font-weight: Bold\">Examples:<br></span>\n",
    "\n",
    "    is_triplet(3, 4, 5) ➞ True\n",
    "    # 3² + 4² = 25\n",
    "    # 5² = 25\n",
    "    \n",
    "    is_triplet(13, 5, 12) ➞ True\n",
    "    # 5² + 12² = 169\n",
    "    # 13² = 169\n",
    "    \n",
    "    is_triplet(1, 2, 3) ➞ False\n",
    "    # 1² + 2² = 5\n",
    "    # 3² = 9\n",
    "\n",
    "<span style=\"font-family: SF Pro Display; font-size: 16px; font-weight: Bold\">Notes:<br></span>\n",
    "<span style=\"font-family: SF Pro Display; font-size: 16px;\">Numbers may not be given in a sorted order.</span>\n"
   ]
  },
  {
   "cell_type": "code",
   "execution_count": 12,
   "id": "72efe0c3",
   "metadata": {
    "ExecuteTime": {
     "end_time": "2022-07-03T07:19:09.699623Z",
     "start_time": "2022-07-03T07:19:09.681672Z"
    }
   },
   "outputs": [],
   "source": [
    "def is_triplet(a,b,c):\n",
    "    l = [a, b, c]\n",
    "    l.sort()\n",
    "    if ((l[0]**2 + l[1]**2) == (l[2]**2)):\n",
    "        return True\n",
    "    else:\n",
    "        return False"
   ]
  },
  {
   "cell_type": "code",
   "execution_count": 13,
   "id": "682930a7",
   "metadata": {
    "ExecuteTime": {
     "end_time": "2022-07-03T07:19:30.298276Z",
     "start_time": "2022-07-03T07:19:30.289341Z"
    }
   },
   "outputs": [
    {
     "data": {
      "text/plain": [
       "True"
      ]
     },
     "execution_count": 13,
     "metadata": {},
     "output_type": "execute_result"
    }
   ],
   "source": [
    "# Test-case-1:\n",
    "is_triplet(3, 4, 5)"
   ]
  },
  {
   "cell_type": "code",
   "execution_count": 14,
   "id": "b939d28b",
   "metadata": {
    "ExecuteTime": {
     "end_time": "2022-07-03T07:19:53.385692Z",
     "start_time": "2022-07-03T07:19:53.380739Z"
    }
   },
   "outputs": [
    {
     "data": {
      "text/plain": [
       "True"
      ]
     },
     "execution_count": 14,
     "metadata": {},
     "output_type": "execute_result"
    }
   ],
   "source": [
    "# Test-case-2:\n",
    "is_triplet(13, 5, 12)"
   ]
  },
  {
   "cell_type": "code",
   "execution_count": 15,
   "id": "62bdc8a2",
   "metadata": {
    "ExecuteTime": {
     "end_time": "2022-07-03T07:20:08.901704Z",
     "start_time": "2022-07-03T07:20:08.895731Z"
    }
   },
   "outputs": [
    {
     "data": {
      "text/plain": [
       "False"
      ]
     },
     "execution_count": 15,
     "metadata": {},
     "output_type": "execute_result"
    }
   ],
   "source": [
    "# Test-case-3:\n",
    "is_triplet(1, 2, 3)"
   ]
  }
 ],
 "metadata": {
  "kernelspec": {
   "display_name": "Python 3 (ipykernel)",
   "language": "python",
   "name": "python3"
  },
  "language_info": {
   "codemirror_mode": {
    "name": "ipython",
    "version": 3
   },
   "file_extension": ".py",
   "mimetype": "text/x-python",
   "name": "python",
   "nbconvert_exporter": "python",
   "pygments_lexer": "ipython3",
   "version": "3.9.7"
  }
 },
 "nbformat": 4,
 "nbformat_minor": 5
}
