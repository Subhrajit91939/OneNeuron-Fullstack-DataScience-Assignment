{
 "cells": [
  {
   "cell_type": "markdown",
   "id": "d58bac20",
   "metadata": {},
   "source": [
    "#Assignment-8: https://drive.google.com/file/d/1KMvOueR-cQxRJD9cADGccJxVmYDp2xkV/view"
   ]
  },
  {
   "cell_type": "code",
   "execution_count": 8,
   "id": "e0e76ac0",
   "metadata": {
    "ExecuteTime": {
     "end_time": "2022-06-10T03:55:56.785481Z",
     "start_time": "2022-06-10T03:55:56.776508Z"
    }
   },
   "outputs": [],
   "source": [
    "# Question-1:\n",
    "# Addition of two Matrices:\n",
    "import numpy as np\n",
    "A1 = np.arange(1,10).reshape(3,3)\n",
    "A2 = np.arange(10,19).reshape(3,3)\n",
    "\n",
    "A3 = A1+A2"
   ]
  },
  {
   "cell_type": "code",
   "execution_count": 10,
   "id": "3566f73d",
   "metadata": {
    "ExecuteTime": {
     "end_time": "2022-06-10T03:56:34.064926Z",
     "start_time": "2022-06-10T03:56:34.048927Z"
    }
   },
   "outputs": [
    {
     "data": {
      "text/plain": [
       "array([[1, 2, 3],\n",
       "       [4, 5, 6],\n",
       "       [7, 8, 9]])"
      ]
     },
     "execution_count": 10,
     "metadata": {},
     "output_type": "execute_result"
    }
   ],
   "source": [
    "A1"
   ]
  },
  {
   "cell_type": "code",
   "execution_count": 11,
   "id": "eed8685e",
   "metadata": {
    "ExecuteTime": {
     "end_time": "2022-06-10T03:56:36.913107Z",
     "start_time": "2022-06-10T03:56:36.893127Z"
    }
   },
   "outputs": [
    {
     "data": {
      "text/plain": [
       "array([[10, 11, 12],\n",
       "       [13, 14, 15],\n",
       "       [16, 17, 18]])"
      ]
     },
     "execution_count": 11,
     "metadata": {},
     "output_type": "execute_result"
    }
   ],
   "source": [
    "A2"
   ]
  },
  {
   "cell_type": "code",
   "execution_count": 9,
   "id": "4055c29d",
   "metadata": {
    "ExecuteTime": {
     "end_time": "2022-06-10T03:56:02.431839Z",
     "start_time": "2022-06-10T03:56:02.417843Z"
    }
   },
   "outputs": [
    {
     "data": {
      "text/plain": [
       "array([[11, 13, 15],\n",
       "       [17, 19, 21],\n",
       "       [23, 25, 27]])"
      ]
     },
     "execution_count": 9,
     "metadata": {},
     "output_type": "execute_result"
    }
   ],
   "source": [
    "A3"
   ]
  },
  {
   "cell_type": "code",
   "execution_count": 12,
   "id": "94505fff",
   "metadata": {
    "ExecuteTime": {
     "end_time": "2022-06-10T03:57:29.915986Z",
     "start_time": "2022-06-10T03:57:29.903007Z"
    }
   },
   "outputs": [],
   "source": [
    "# Question-2:\n",
    "# Multiplication Tof two Matrices:\n",
    "# Reusing the 3X3 Matrices Above:\n",
    "A4 = A1.dot(A2)"
   ]
  },
  {
   "cell_type": "code",
   "execution_count": 13,
   "id": "2a7bedec",
   "metadata": {
    "ExecuteTime": {
     "end_time": "2022-06-10T03:57:37.004604Z",
     "start_time": "2022-06-10T03:57:36.984657Z"
    }
   },
   "outputs": [
    {
     "data": {
      "text/plain": [
       "array([[ 84,  90,  96],\n",
       "       [201, 216, 231],\n",
       "       [318, 342, 366]])"
      ]
     },
     "execution_count": 13,
     "metadata": {},
     "output_type": "execute_result"
    }
   ],
   "source": [
    "A4"
   ]
  },
  {
   "cell_type": "code",
   "execution_count": 14,
   "id": "3918c354",
   "metadata": {
    "ExecuteTime": {
     "end_time": "2022-06-10T03:59:24.576789Z",
     "start_time": "2022-06-10T03:59:24.558836Z"
    }
   },
   "outputs": [
    {
     "data": {
      "text/plain": [
       "array([[ 84, 201, 318],\n",
       "       [ 90, 216, 342],\n",
       "       [ 96, 231, 366]])"
      ]
     },
     "execution_count": 14,
     "metadata": {},
     "output_type": "execute_result"
    }
   ],
   "source": [
    "#Question-3:\n",
    "#Transpose of a Matrix\n",
    "A4.transpose()"
   ]
  },
  {
   "cell_type": "code",
   "execution_count": 21,
   "id": "4ea80b57",
   "metadata": {
    "ExecuteTime": {
     "end_time": "2022-06-10T05:53:23.284143Z",
     "start_time": "2022-06-10T05:53:23.256701Z"
    }
   },
   "outputs": [
    {
     "name": "stdout",
     "output_type": "stream",
     "text": [
      "The sorted string: ['brown', 'dog', 'fox', 'jumps', 'lazy', 'over', 'quick', 'the', 'the']\n"
     ]
    }
   ],
   "source": [
    "#Question-4:\n",
    "#Program to sort words in Alphabetical Order.\n",
    "alpha_string = \"The quick brown fox jumps over the lazy dog\"\n",
    "alpha_list = list(word.lower() for word in alpha_string.split())\n",
    "alpha_list.sort()\n",
    "print(f\"The sorted string: {alpha_list}\")"
   ]
  },
  {
   "cell_type": "code",
   "execution_count": 17,
   "id": "b3e3a9bf",
   "metadata": {
    "ExecuteTime": {
     "end_time": "2022-06-10T04:11:15.528653Z",
     "start_time": "2022-06-10T04:11:15.517643Z"
    }
   },
   "outputs": [
    {
     "name": "stdout",
     "output_type": "stream",
     "text": [
      "This is the original string: Greeetings{! This is a( [ ] } test string; () It has multiple punctuations,.\n",
      "The string after removing the punctutation: Greeetings This is a    test string  It has multiple punctuations\n"
     ]
    }
   ],
   "source": [
    "#Question-5:\n",
    "#Removing Punctuations in a string:\n",
    "test_string = \"Greeetings{! This is a( [ ] } test string; () It has multiple punctuations,.\"\n",
    "print(f\"This is the original string: {test_string}\")\n",
    "punct = '''@^&*-_.%:;,<>~`!()[]{}\\/'''\n",
    "\n",
    "for st in test_string:\n",
    "    if st in punct:\n",
    "        test_string = test_string.replace(st, \"\")\n",
    "        \n",
    "print(f\"The string after removing the punctutation: {test_string}\")"
   ]
  }
 ],
 "metadata": {
  "kernelspec": {
   "display_name": "Python 3 (ipykernel)",
   "language": "python",
   "name": "python3"
  },
  "language_info": {
   "codemirror_mode": {
    "name": "ipython",
    "version": 3
   },
   "file_extension": ".py",
   "mimetype": "text/x-python",
   "name": "python",
   "nbconvert_exporter": "python",
   "pygments_lexer": "ipython3",
   "version": "3.9.7"
  },
  "toc": {
   "base_numbering": 1,
   "nav_menu": {},
   "number_sections": true,
   "sideBar": true,
   "skip_h1_title": false,
   "title_cell": "Table of Contents",
   "title_sidebar": "Contents",
   "toc_cell": false,
   "toc_position": {},
   "toc_section_display": true,
   "toc_window_display": false
  }
 },
 "nbformat": 4,
 "nbformat_minor": 5
}
